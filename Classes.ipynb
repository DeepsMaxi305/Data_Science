{
  "nbformat": 4,
  "nbformat_minor": 0,
  "metadata": {
    "colab": {
      "provenance": [],
      "authorship_tag": "ABX9TyMO3oZWFvlDdf7oMJrSeOYu",
      "include_colab_link": true
    },
    "kernelspec": {
      "name": "python3",
      "display_name": "Python 3"
    },
    "language_info": {
      "name": "python"
    }
  },
  "cells": [
    {
      "cell_type": "markdown",
      "metadata": {
        "id": "view-in-github",
        "colab_type": "text"
      },
      "source": [
        "<a href=\"https://colab.research.google.com/github/DeepsMaxi305/Data_Science/blob/main/Classes.ipynb\" target=\"_parent\"><img src=\"https://colab.research.google.com/assets/colab-badge.svg\" alt=\"Open In Colab\"/></a>"
      ]
    },
    {
      "cell_type": "code",
      "execution_count": 307,
      "metadata": {
        "id": "63d18HIOSuY0"
      },
      "outputs": [],
      "source": [
        "class person:\n",
        "  species = \"Homosapien\"\n",
        "  population = 0\n",
        "  address = \"Home\"\n",
        "\n",
        "  @staticmethod\n",
        "  def greetings():\n",
        "    print(f\"Hello Human\")\n",
        "\n",
        "  @classmethod\n",
        "  def increment_population(cls):\n",
        "      cls.population +=1\n",
        "\n",
        "  def __init__(self,name_input =\"someone\",age_input=18):\n",
        "    self.name = name_input\n",
        "    self.age = age_input\n",
        "    self.address =\"\"\n",
        "\n",
        "    person.increment_population()\n",
        "    person.greetings()\n",
        "    \n",
        "  def __str__(self):\n",
        "    return f\"name:{self.name}, age:{self.age}\"\n",
        "\n",
        "  "
      ]
    },
    {
      "cell_type": "code",
      "source": [
        "p1 = person (\"Jamal\",26)\n",
        "print(p1.age,p1.name)\n",
        "p1.address = \"Jamal House\"\n",
        "print(p1.address,)"
      ],
      "metadata": {
        "colab": {
          "base_uri": "https://localhost:8080/"
        },
        "id": "UfW7afcZYYGO",
        "outputId": "9360f3ef-8b2f-4416-fed6-12e294de3d65"
      },
      "execution_count": 308,
      "outputs": [
        {
          "output_type": "stream",
          "name": "stdout",
          "text": [
            "Hello Human\n",
            "26 Jamal\n",
            "Jamal House\n"
          ]
        }
      ]
    },
    {
      "cell_type": "code",
      "source": [
        "p2 = person()\n",
        "print(p2.name)\n",
        "print(p2.address)"
      ],
      "metadata": {
        "colab": {
          "base_uri": "https://localhost:8080/"
        },
        "id": "a6ubRJi2Z0D-",
        "outputId": "7a7667e6-4f99-4da4-c210-ecf6f0faa071"
      },
      "execution_count": 309,
      "outputs": [
        {
          "output_type": "stream",
          "name": "stdout",
          "text": [
            "Hello Human\n",
            "someone\n",
            "\n"
          ]
        }
      ]
    },
    {
      "cell_type": "code",
      "source": [
        "p3 = person (\"Deepu\",27)\n",
        "print(p3.age,p3.name)\n",
        "p3.address = \"Deepu House\"\n",
        "print(p3.address,)"
      ],
      "metadata": {
        "colab": {
          "base_uri": "https://localhost:8080/"
        },
        "id": "AoqT5myjbHY-",
        "outputId": "fcdba39c-48a6-4db5-820f-d752dca5d8d4"
      },
      "execution_count": 310,
      "outputs": [
        {
          "output_type": "stream",
          "name": "stdout",
          "text": [
            "Hello Human\n",
            "27 Deepu\n",
            "Deepu House\n"
          ]
        }
      ]
    },
    {
      "cell_type": "code",
      "source": [
        "persons = []\n",
        "for name, age in [(\"Alex\",25),(\"Ali\",24)]:\n",
        "  persons.append(person(name,age))"
      ],
      "metadata": {
        "colab": {
          "base_uri": "https://localhost:8080/"
        },
        "id": "ZH5j9m99cBrO",
        "outputId": "44c0fded-ae90-4145-b4da-8d0e9d3420e3"
      },
      "execution_count": 311,
      "outputs": [
        {
          "output_type": "stream",
          "name": "stdout",
          "text": [
            "Hello Human\n",
            "Hello Human\n"
          ]
        }
      ]
    },
    {
      "cell_type": "code",
      "source": [
        "print (persons[0].name)"
      ],
      "metadata": {
        "colab": {
          "base_uri": "https://localhost:8080/"
        },
        "id": "IfKcr4sVcUNG",
        "outputId": "51977ba2-0c49-4266-ac6e-b0a67b21bf1a"
      },
      "execution_count": 312,
      "outputs": [
        {
          "output_type": "stream",
          "name": "stdout",
          "text": [
            "Alex\n"
          ]
        }
      ]
    },
    {
      "cell_type": "code",
      "source": [
        "print(p1,)\n",
        "print (p2)"
      ],
      "metadata": {
        "colab": {
          "base_uri": "https://localhost:8080/"
        },
        "id": "YFG-b3xKc5O2",
        "outputId": "5033cff3-08ef-45e0-82a4-8ee52d7f11b4"
      },
      "execution_count": 313,
      "outputs": [
        {
          "output_type": "stream",
          "name": "stdout",
          "text": [
            "name:Jamal, age:26\n",
            "name:someone, age:18\n"
          ]
        }
      ]
    },
    {
      "cell_type": "code",
      "source": [
        "p3=p1\n",
        "p3.name = \"Sufi\"\n",
        "print(p1.name,p3.name)"
      ],
      "metadata": {
        "colab": {
          "base_uri": "https://localhost:8080/"
        },
        "id": "w9B8398hdS8y",
        "outputId": "0c396d1f-4072-430d-e68f-d7d7e9ccb1aa"
      },
      "execution_count": 314,
      "outputs": [
        {
          "output_type": "stream",
          "name": "stdout",
          "text": [
            "Sufi Sufi\n"
          ]
        }
      ]
    },
    {
      "cell_type": "code",
      "source": [
        "import copy\n",
        "p4 = copy.deepcopy(p1)\n",
        "p4.name = \"Ahmad\"\n",
        "print(p1.name,p4.name)"
      ],
      "metadata": {
        "colab": {
          "base_uri": "https://localhost:8080/"
        },
        "id": "YRk8ffl4eA7e",
        "outputId": "f07b45d4-706c-4a3a-ca7d-8849d5a59e0a"
      },
      "execution_count": 315,
      "outputs": [
        {
          "output_type": "stream",
          "name": "stdout",
          "text": [
            "Sufi Ahmad\n"
          ]
        }
      ]
    },
    {
      "cell_type": "code",
      "source": [
        "p1.name1 = \"Old\"\n",
        "print(p1.name1,p2.name)"
      ],
      "metadata": {
        "colab": {
          "base_uri": "https://localhost:8080/"
        },
        "id": "II_GJe3De8sc",
        "outputId": "0d861e40-7a5e-4e98-9fbf-6166ba5fe475"
      },
      "execution_count": 316,
      "outputs": [
        {
          "output_type": "stream",
          "name": "stdout",
          "text": [
            "Old someone\n"
          ]
        }
      ]
    },
    {
      "cell_type": "code",
      "source": [
        "print(p1)"
      ],
      "metadata": {
        "colab": {
          "base_uri": "https://localhost:8080/"
        },
        "id": "oEhVGrhQfiAy",
        "outputId": "1b2c1f15-1fe1-4f64-b2fb-5c3c20ca31d3"
      },
      "execution_count": 317,
      "outputs": [
        {
          "output_type": "stream",
          "name": "stdout",
          "text": [
            "name:Sufi, age:26\n"
          ]
        }
      ]
    },
    {
      "cell_type": "code",
      "source": [
        "print([p1,p2,p3,p4])"
      ],
      "metadata": {
        "colab": {
          "base_uri": "https://localhost:8080/"
        },
        "id": "tbIpFgKWgUhe",
        "outputId": "8574e097-6640-4ade-dc2f-2e2eedec137c"
      },
      "execution_count": 318,
      "outputs": [
        {
          "output_type": "stream",
          "name": "stdout",
          "text": [
            "[<__main__.person object at 0x7f6e74d81100>, <__main__.person object at 0x7f6e74dc9df0>, <__main__.person object at 0x7f6e74d81100>, <__main__.person object at 0x7f6e74cbd6a0>]\n"
          ]
        }
      ]
    },
    {
      "cell_type": "code",
      "source": [
        "print(list.__doc__)"
      ],
      "metadata": {
        "colab": {
          "base_uri": "https://localhost:8080/"
        },
        "id": "iM_AhQ77hJOu",
        "outputId": "8577e447-c05f-4d0c-cb82-f3b861e6f849"
      },
      "execution_count": 319,
      "outputs": [
        {
          "output_type": "stream",
          "name": "stdout",
          "text": [
            "Built-in mutable sequence.\n",
            "\n",
            "If no argument is given, the constructor creates a new empty list.\n",
            "The argument must be an iterable if specified.\n"
          ]
        }
      ]
    },
    {
      "cell_type": "code",
      "source": [
        "print(person.__doc__)"
      ],
      "metadata": {
        "colab": {
          "base_uri": "https://localhost:8080/"
        },
        "id": "OGyEnDK5hbN7",
        "outputId": "f63f2cd5-a2c7-425b-88e8-0f411f09c7af"
      },
      "execution_count": 320,
      "outputs": [
        {
          "output_type": "stream",
          "name": "stdout",
          "text": [
            "None\n"
          ]
        }
      ]
    },
    {
      "cell_type": "code",
      "source": [
        "del p1"
      ],
      "metadata": {
        "id": "eyQJNEHLhbEp"
      },
      "execution_count": 321,
      "outputs": []
    },
    {
      "cell_type": "code",
      "source": [
        "print(person.__dict__)"
      ],
      "metadata": {
        "colab": {
          "base_uri": "https://localhost:8080/"
        },
        "id": "CB50IsshjLER",
        "outputId": "8a39718c-5196-4293-de14-9971076f4274"
      },
      "execution_count": 322,
      "outputs": [
        {
          "output_type": "stream",
          "name": "stdout",
          "text": [
            "{'__module__': '__main__', 'species': 'Homosapien', 'population': 5, 'address': 'Home', 'greetings': <staticmethod object at 0x7f6e74cbd7f0>, 'increment_population': <classmethod object at 0x7f6e74cbd610>, '__init__': <function person.__init__ at 0x7f6e74c3bd30>, '__str__': <function person.__str__ at 0x7f6e74c3bb80>, '__dict__': <attribute '__dict__' of 'person' objects>, '__weakref__': <attribute '__weakref__' of 'person' objects>, '__doc__': None, '__slotnames__': []}\n"
          ]
        }
      ]
    },
    {
      "cell_type": "code",
      "source": [
        "print(p3.__dict__)"
      ],
      "metadata": {
        "colab": {
          "base_uri": "https://localhost:8080/"
        },
        "id": "j-ucGa0fjYAx",
        "outputId": "27aa1b2b-c996-4d1c-f44e-216bfc967323"
      },
      "execution_count": 323,
      "outputs": [
        {
          "output_type": "stream",
          "name": "stdout",
          "text": [
            "{'name': 'Sufi', 'age': 26, 'address': 'Jamal House', 'name1': 'Old'}\n"
          ]
        }
      ]
    },
    {
      "cell_type": "code",
      "source": [
        "print (p3.__dict__.values())"
      ],
      "metadata": {
        "colab": {
          "base_uri": "https://localhost:8080/"
        },
        "id": "EilpJ9-Hjj94",
        "outputId": "337b02ea-cc50-4bc0-f922-b72260269ae7"
      },
      "execution_count": 324,
      "outputs": [
        {
          "output_type": "stream",
          "name": "stdout",
          "text": [
            "dict_values(['Sufi', 26, 'Jamal House', 'Old'])\n"
          ]
        }
      ]
    },
    {
      "cell_type": "code",
      "source": [
        "print (person.population)\n",
        "p1 = person()"
      ],
      "metadata": {
        "colab": {
          "base_uri": "https://localhost:8080/"
        },
        "id": "ChKamm5nk7FM",
        "outputId": "7d624dce-ba09-4f30-d8f5-804d98a43326"
      },
      "execution_count": 328,
      "outputs": [
        {
          "output_type": "stream",
          "name": "stdout",
          "text": [
            "6\n",
            "Hello Human\n"
          ]
        }
      ]
    },
    {
      "cell_type": "code",
      "source": [
        "p1.name = 99"
      ],
      "metadata": {
        "id": "LH8SjVXEngwB"
      },
      "execution_count": 329,
      "outputs": []
    }
  ]
}