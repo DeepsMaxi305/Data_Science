{
  "nbformat": 4,
  "nbformat_minor": 0,
  "metadata": {
    "colab": {
      "provenance": [],
      "authorship_tag": "ABX9TyNQQz6rw3BAdTBAaAxMaO8i",
      "include_colab_link": true
    },
    "kernelspec": {
      "name": "python3",
      "display_name": "Python 3"
    },
    "language_info": {
      "name": "python"
    }
  },
  "cells": [
    {
      "cell_type": "markdown",
      "metadata": {
        "id": "view-in-github",
        "colab_type": "text"
      },
      "source": [
        "<a href=\"https://colab.research.google.com/github/DeepsMaxi305/Data_Science/blob/main/Classes.ipynb\" target=\"_parent\"><img src=\"https://colab.research.google.com/assets/colab-badge.svg\" alt=\"Open In Colab\"/></a>"
      ]
    },
    {
      "cell_type": "code",
      "execution_count": 540,
      "metadata": {
        "id": "63d18HIOSuY0"
      },
      "outputs": [],
      "source": [
        "class person:\n",
        "  species = \"Homosapien\"\n",
        "  population = 0\n",
        "  address = \"Home\"\n",
        "\n",
        "  @staticmethod\n",
        "  def greetings():\n",
        "    print(f\"Hello Human\")\n",
        "\n",
        "  @classmethod\n",
        "  def increment_population(cls):\n",
        "      cls.population +=1\n",
        "\n",
        "  def __init__(self,name_input =\"someone\",age_input=18):\n",
        "    self.name = name_input\n",
        "    self.age = age_input\n",
        "    self.address =\"\"\n",
        "\n",
        "    person.increment_population()\n",
        "    person.greetings()\n",
        "    \n",
        "  def __str__(self):\n",
        "    return f\"name:{self.name}, age:{self.age}\"\n",
        "\n",
        "  "
      ]
    },
    {
      "cell_type": "code",
      "source": [
        "p1 = person (\"Jamal\",26)\n",
        "print(p1.age,p1.name)\n",
        "p1.address = \"Jamal House\"\n",
        "print(p1.address,)"
      ],
      "metadata": {
        "colab": {
          "base_uri": "https://localhost:8080/"
        },
        "id": "UfW7afcZYYGO",
        "outputId": "d6ee7471-5736-4db6-f28a-43c1b4271245"
      },
      "execution_count": 541,
      "outputs": [
        {
          "output_type": "stream",
          "name": "stdout",
          "text": [
            "Hello Human\n",
            "26 Jamal\n",
            "Jamal House\n"
          ]
        }
      ]
    },
    {
      "cell_type": "code",
      "source": [
        "p2 = person()\n",
        "print(p2.name)\n",
        "print(p2.address)"
      ],
      "metadata": {
        "colab": {
          "base_uri": "https://localhost:8080/"
        },
        "id": "a6ubRJi2Z0D-",
        "outputId": "5b2b6b67-975f-4bd2-fad5-a95f99c90537"
      },
      "execution_count": 542,
      "outputs": [
        {
          "output_type": "stream",
          "name": "stdout",
          "text": [
            "Hello Human\n",
            "someone\n",
            "\n"
          ]
        }
      ]
    },
    {
      "cell_type": "code",
      "source": [
        "p3 = person (\"Deepu\",27)\n",
        "print(p3.age,p3.name)\n",
        "p3.address = \"Deepu House\"\n",
        "print(p3.address,)"
      ],
      "metadata": {
        "colab": {
          "base_uri": "https://localhost:8080/"
        },
        "id": "AoqT5myjbHY-",
        "outputId": "6a8fa539-4ca0-4c01-88f9-b05cef31938e"
      },
      "execution_count": 543,
      "outputs": [
        {
          "output_type": "stream",
          "name": "stdout",
          "text": [
            "Hello Human\n",
            "27 Deepu\n",
            "Deepu House\n"
          ]
        }
      ]
    },
    {
      "cell_type": "code",
      "source": [
        "persons = []\n",
        "for name, age in [(\"Alex\",25),(\"Ali\",24)]:\n",
        "  persons.append(person(name,age))"
      ],
      "metadata": {
        "colab": {
          "base_uri": "https://localhost:8080/"
        },
        "id": "ZH5j9m99cBrO",
        "outputId": "bb243586-6dcd-4ecf-e3ff-109517a90748"
      },
      "execution_count": 544,
      "outputs": [
        {
          "output_type": "stream",
          "name": "stdout",
          "text": [
            "Hello Human\n",
            "Hello Human\n"
          ]
        }
      ]
    },
    {
      "cell_type": "code",
      "source": [
        "print (persons[0].name)"
      ],
      "metadata": {
        "colab": {
          "base_uri": "https://localhost:8080/"
        },
        "id": "IfKcr4sVcUNG",
        "outputId": "e7a61263-3a41-41b7-f113-740c1bfa5f32"
      },
      "execution_count": 545,
      "outputs": [
        {
          "output_type": "stream",
          "name": "stdout",
          "text": [
            "Alex\n"
          ]
        }
      ]
    },
    {
      "cell_type": "code",
      "source": [
        "print(p1,)\n",
        "print (p2)"
      ],
      "metadata": {
        "colab": {
          "base_uri": "https://localhost:8080/"
        },
        "id": "YFG-b3xKc5O2",
        "outputId": "8051ccf8-2e71-43ff-abc4-5b47f31ce9ad"
      },
      "execution_count": 546,
      "outputs": [
        {
          "output_type": "stream",
          "name": "stdout",
          "text": [
            "name:Jamal, age:26\n",
            "name:someone, age:18\n"
          ]
        }
      ]
    },
    {
      "cell_type": "code",
      "source": [
        "p3=p1\n",
        "p3.name = \"Sufi\"\n",
        "print(p1.name,p3.name)"
      ],
      "metadata": {
        "colab": {
          "base_uri": "https://localhost:8080/"
        },
        "id": "w9B8398hdS8y",
        "outputId": "2ed40e93-bd92-43fa-9937-1609e616e82c"
      },
      "execution_count": 547,
      "outputs": [
        {
          "output_type": "stream",
          "name": "stdout",
          "text": [
            "Sufi Sufi\n"
          ]
        }
      ]
    },
    {
      "cell_type": "code",
      "source": [
        "import copy\n",
        "p4 = copy.deepcopy(p1)\n",
        "p4.name = \"Ahmad\"\n",
        "print(p1.name,p4.name)"
      ],
      "metadata": {
        "colab": {
          "base_uri": "https://localhost:8080/"
        },
        "id": "YRk8ffl4eA7e",
        "outputId": "cfd79698-4bfa-40c8-92b2-8cd43cc64f57"
      },
      "execution_count": 548,
      "outputs": [
        {
          "output_type": "stream",
          "name": "stdout",
          "text": [
            "Sufi Ahmad\n"
          ]
        }
      ]
    },
    {
      "cell_type": "code",
      "source": [
        "p1.name1 = \"Old\"\n",
        "print(p1.name1,p2.name)"
      ],
      "metadata": {
        "colab": {
          "base_uri": "https://localhost:8080/"
        },
        "id": "II_GJe3De8sc",
        "outputId": "cda42ca2-b9a3-46f0-edd7-6da3053d81e7"
      },
      "execution_count": 549,
      "outputs": [
        {
          "output_type": "stream",
          "name": "stdout",
          "text": [
            "Old someone\n"
          ]
        }
      ]
    },
    {
      "cell_type": "code",
      "source": [
        "print(p1)"
      ],
      "metadata": {
        "colab": {
          "base_uri": "https://localhost:8080/"
        },
        "id": "oEhVGrhQfiAy",
        "outputId": "3aa02f72-4eb1-4156-86d5-d616c21e0f13"
      },
      "execution_count": 550,
      "outputs": [
        {
          "output_type": "stream",
          "name": "stdout",
          "text": [
            "name:Sufi, age:26\n"
          ]
        }
      ]
    },
    {
      "cell_type": "code",
      "source": [
        "print([p1,p2,p3,p4])"
      ],
      "metadata": {
        "colab": {
          "base_uri": "https://localhost:8080/"
        },
        "id": "tbIpFgKWgUhe",
        "outputId": "4ee57eac-038a-417e-abe5-228985247bfd"
      },
      "execution_count": 551,
      "outputs": [
        {
          "output_type": "stream",
          "name": "stdout",
          "text": [
            "[<__main__.person object at 0x7f6e74bd0bb0>, <__main__.person object at 0x7f6e74bd0310>, <__main__.person object at 0x7f6e74bd0bb0>, <__main__.person object at 0x7f6e74c14fd0>]\n"
          ]
        }
      ]
    },
    {
      "cell_type": "code",
      "source": [
        "print(list.__doc__)"
      ],
      "metadata": {
        "colab": {
          "base_uri": "https://localhost:8080/"
        },
        "id": "iM_AhQ77hJOu",
        "outputId": "338ac04d-cd33-46a8-fe62-aaa1034aa627"
      },
      "execution_count": 552,
      "outputs": [
        {
          "output_type": "stream",
          "name": "stdout",
          "text": [
            "Built-in mutable sequence.\n",
            "\n",
            "If no argument is given, the constructor creates a new empty list.\n",
            "The argument must be an iterable if specified.\n"
          ]
        }
      ]
    },
    {
      "cell_type": "code",
      "source": [
        "print(person.__doc__)"
      ],
      "metadata": {
        "colab": {
          "base_uri": "https://localhost:8080/"
        },
        "id": "OGyEnDK5hbN7",
        "outputId": "86629a5c-21b0-40a5-ad8c-4ca483165651"
      },
      "execution_count": 553,
      "outputs": [
        {
          "output_type": "stream",
          "name": "stdout",
          "text": [
            "None\n"
          ]
        }
      ]
    },
    {
      "cell_type": "code",
      "source": [
        "del p1"
      ],
      "metadata": {
        "id": "eyQJNEHLhbEp"
      },
      "execution_count": 554,
      "outputs": []
    },
    {
      "cell_type": "code",
      "source": [
        "print(person.__dict__)"
      ],
      "metadata": {
        "colab": {
          "base_uri": "https://localhost:8080/"
        },
        "id": "CB50IsshjLER",
        "outputId": "471f67b7-346d-46c0-b63e-8ad9a8785fb6"
      },
      "execution_count": 555,
      "outputs": [
        {
          "output_type": "stream",
          "name": "stdout",
          "text": [
            "{'__module__': '__main__', 'species': 'Homosapien', 'population': 5, 'address': 'Home', 'greetings': <staticmethod object at 0x7f6e74bd0760>, 'increment_population': <classmethod object at 0x7f6e74bd0340>, '__init__': <function person.__init__ at 0x7f6e74b8a430>, '__str__': <function person.__str__ at 0x7f6e74b8a3a0>, '__dict__': <attribute '__dict__' of 'person' objects>, '__weakref__': <attribute '__weakref__' of 'person' objects>, '__doc__': None, '__slotnames__': []}\n"
          ]
        }
      ]
    },
    {
      "cell_type": "code",
      "source": [
        "print(p3.__dict__)"
      ],
      "metadata": {
        "colab": {
          "base_uri": "https://localhost:8080/"
        },
        "id": "j-ucGa0fjYAx",
        "outputId": "886c91a6-0383-4ae3-f304-90b67d393c67"
      },
      "execution_count": 556,
      "outputs": [
        {
          "output_type": "stream",
          "name": "stdout",
          "text": [
            "{'name': 'Sufi', 'age': 26, 'address': 'Jamal House', 'name1': 'Old'}\n"
          ]
        }
      ]
    },
    {
      "cell_type": "code",
      "source": [
        "print (p3.__dict__.values())"
      ],
      "metadata": {
        "colab": {
          "base_uri": "https://localhost:8080/"
        },
        "id": "EilpJ9-Hjj94",
        "outputId": "5997a894-e815-440b-905f-a8991ab2253c"
      },
      "execution_count": 557,
      "outputs": [
        {
          "output_type": "stream",
          "name": "stdout",
          "text": [
            "dict_values(['Sufi', 26, 'Jamal House', 'Old'])\n"
          ]
        }
      ]
    },
    {
      "cell_type": "code",
      "source": [
        "print (person.population)\n",
        "p1 = person()"
      ],
      "metadata": {
        "colab": {
          "base_uri": "https://localhost:8080/"
        },
        "id": "ChKamm5nk7FM",
        "outputId": "70b9eb08-a595-4b03-a73d-c379456c3be5"
      },
      "execution_count": 558,
      "outputs": [
        {
          "output_type": "stream",
          "name": "stdout",
          "text": [
            "5\n",
            "Hello Human\n"
          ]
        }
      ]
    },
    {
      "cell_type": "code",
      "source": [
        "p1.name = 99"
      ],
      "metadata": {
        "id": "LH8SjVXEngwB"
      },
      "execution_count": 559,
      "outputs": []
    },
    {
      "cell_type": "code",
      "source": [
        "class person:\n",
        "\n",
        "\n",
        "  def __init__(self,name,age):\n",
        "    self._name = name\n",
        "    self.set_age(age)\n",
        "    \n",
        "  def get_age(self):\n",
        "    return self._age\n",
        "  \n",
        "  def set_age(self,new_age):\n",
        "    if (isinstance(new_age,int)):\n",
        "      if new_age >0 and new_age <200:\n",
        "        self._age = new_age\n",
        "      else:\n",
        "        print (f\"Age {new_age} is not in valid range\")\n",
        "    else:\n",
        "        print(\"age should be integer\")"
      ],
      "metadata": {
        "id": "5m-n60jEu8TW"
      },
      "execution_count": 560,
      "outputs": []
    },
    {
      "cell_type": "code",
      "source": [
        "p1 = person (\"Ahmad\", 99)\n",
        "p2 = person (\"Noha\",1000)\n"
      ],
      "metadata": {
        "colab": {
          "base_uri": "https://localhost:8080/"
        },
        "id": "68riEYbBvBAS",
        "outputId": "2017edf6-aae8-4975-903c-ba6ade6b1513"
      },
      "execution_count": 561,
      "outputs": [
        {
          "output_type": "stream",
          "name": "stdout",
          "text": [
            "Age 1000 is not in valid range\n"
          ]
        }
      ]
    },
    {
      "cell_type": "code",
      "source": [
        "p1._name = 96\n",
        "print (p1.get_age())"
      ],
      "metadata": {
        "colab": {
          "base_uri": "https://localhost:8080/"
        },
        "id": "2v_wJzOww8_B",
        "outputId": "e8f52d53-2cd5-49eb-ca9a-996c420def5b"
      },
      "execution_count": 562,
      "outputs": [
        {
          "output_type": "stream",
          "name": "stdout",
          "text": [
            "99\n"
          ]
        }
      ]
    }
  ]
}