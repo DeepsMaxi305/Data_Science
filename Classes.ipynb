{
  "nbformat": 4,
  "nbformat_minor": 0,
  "metadata": {
    "colab": {
      "provenance": [],
      "authorship_tag": "ABX9TyOg/IQdBepbt83gGECTkosu",
      "include_colab_link": true
    },
    "kernelspec": {
      "name": "python3",
      "display_name": "Python 3"
    },
    "language_info": {
      "name": "python"
    }
  },
  "cells": [
    {
      "cell_type": "markdown",
      "metadata": {
        "id": "view-in-github",
        "colab_type": "text"
      },
      "source": [
        "<a href=\"https://colab.research.google.com/github/DeepsMaxi305/Data_Science/blob/main/Classes.ipynb\" target=\"_parent\"><img src=\"https://colab.research.google.com/assets/colab-badge.svg\" alt=\"Open In Colab\"/></a>"
      ]
    },
    {
      "cell_type": "code",
      "execution_count": 667,
      "metadata": {
        "id": "63d18HIOSuY0"
      },
      "outputs": [],
      "source": [
        "class person:\n",
        "  species = \"Homosapien\"\n",
        "  population = 0\n",
        "  address = \"Home\"\n",
        "\n",
        "  @staticmethod\n",
        "  def greetings():\n",
        "    print(f\"Hello Human\")\n",
        "\n",
        "  @classmethod\n",
        "  def increment_population(cls):\n",
        "      cls.population +=1\n",
        "\n",
        "  def __init__(self,name_input =\"someone\",age_input=18):\n",
        "    self.name = name_input\n",
        "    self.age = age_input\n",
        "    self.address =\"\"\n",
        "\n",
        "    person.increment_population()\n",
        "    person.greetings()\n",
        "    \n",
        "  def __str__(self):\n",
        "    return f\"name:{self.name}, age:{self.age}\"\n",
        "\n",
        "  "
      ]
    },
    {
      "cell_type": "code",
      "source": [
        "p1 = person (\"Jamal\",26)\n",
        "print(p1.age,p1.name)\n",
        "p1.address = \"Jamal House\"\n",
        "print(p1.address,)"
      ],
      "metadata": {
        "colab": {
          "base_uri": "https://localhost:8080/"
        },
        "id": "UfW7afcZYYGO",
        "outputId": "923c7b6a-9d61-4c03-d796-81f670980bd1"
      },
      "execution_count": 668,
      "outputs": [
        {
          "output_type": "stream",
          "name": "stdout",
          "text": [
            "Hello Human\n",
            "26 Jamal\n",
            "Jamal House\n"
          ]
        }
      ]
    },
    {
      "cell_type": "code",
      "source": [
        "p2 = person()\n",
        "print(p2.name)\n",
        "print(p2.address)"
      ],
      "metadata": {
        "colab": {
          "base_uri": "https://localhost:8080/"
        },
        "id": "a6ubRJi2Z0D-",
        "outputId": "65a49378-5446-46fd-e8d3-a32ce8851006"
      },
      "execution_count": 669,
      "outputs": [
        {
          "output_type": "stream",
          "name": "stdout",
          "text": [
            "Hello Human\n",
            "someone\n",
            "\n"
          ]
        }
      ]
    },
    {
      "cell_type": "code",
      "source": [
        "p3 = person (\"Deepu\",27)\n",
        "print(p3.age,p3.name)\n",
        "p3.address = \"Deepu House\"\n",
        "print(p3.address,)"
      ],
      "metadata": {
        "colab": {
          "base_uri": "https://localhost:8080/"
        },
        "id": "AoqT5myjbHY-",
        "outputId": "9e9a3ba9-dc2d-4c63-9762-aefd470e6052"
      },
      "execution_count": 670,
      "outputs": [
        {
          "output_type": "stream",
          "name": "stdout",
          "text": [
            "Hello Human\n",
            "27 Deepu\n",
            "Deepu House\n"
          ]
        }
      ]
    },
    {
      "cell_type": "code",
      "source": [
        "persons = []\n",
        "for name, age in [(\"Alex\",25),(\"Ali\",24)]:\n",
        "  persons.append(person(name,age))"
      ],
      "metadata": {
        "colab": {
          "base_uri": "https://localhost:8080/"
        },
        "id": "ZH5j9m99cBrO",
        "outputId": "14ee07f5-2340-4b28-9af4-60b09175f546"
      },
      "execution_count": 671,
      "outputs": [
        {
          "output_type": "stream",
          "name": "stdout",
          "text": [
            "Hello Human\n",
            "Hello Human\n"
          ]
        }
      ]
    },
    {
      "cell_type": "code",
      "source": [
        "print (persons[0].name)"
      ],
      "metadata": {
        "colab": {
          "base_uri": "https://localhost:8080/"
        },
        "id": "IfKcr4sVcUNG",
        "outputId": "0e6a2e35-9767-45c8-d6e2-80234353e6c2"
      },
      "execution_count": 672,
      "outputs": [
        {
          "output_type": "stream",
          "name": "stdout",
          "text": [
            "Alex\n"
          ]
        }
      ]
    },
    {
      "cell_type": "code",
      "source": [
        "print(p1,)\n",
        "print (p2)"
      ],
      "metadata": {
        "colab": {
          "base_uri": "https://localhost:8080/"
        },
        "id": "YFG-b3xKc5O2",
        "outputId": "a0a3be38-9a47-48aa-9155-92ac9157d784"
      },
      "execution_count": 673,
      "outputs": [
        {
          "output_type": "stream",
          "name": "stdout",
          "text": [
            "name:Jamal, age:26\n",
            "name:someone, age:18\n"
          ]
        }
      ]
    },
    {
      "cell_type": "code",
      "source": [
        "p3=p1\n",
        "p3.name = \"Sufi\"\n",
        "print(p1.name,p3.name)"
      ],
      "metadata": {
        "colab": {
          "base_uri": "https://localhost:8080/"
        },
        "id": "w9B8398hdS8y",
        "outputId": "706ae4b1-1251-44a5-963d-04ef59c57d8e"
      },
      "execution_count": 674,
      "outputs": [
        {
          "output_type": "stream",
          "name": "stdout",
          "text": [
            "Sufi Sufi\n"
          ]
        }
      ]
    },
    {
      "cell_type": "code",
      "source": [
        "import copy\n",
        "p4 = copy.deepcopy(p1)\n",
        "p4.name = \"Ahmad\"\n",
        "print(p1.name,p4.name)"
      ],
      "metadata": {
        "colab": {
          "base_uri": "https://localhost:8080/"
        },
        "id": "YRk8ffl4eA7e",
        "outputId": "cd34fca4-1a75-4d60-b145-59ea81c21d36"
      },
      "execution_count": 675,
      "outputs": [
        {
          "output_type": "stream",
          "name": "stdout",
          "text": [
            "Sufi Ahmad\n"
          ]
        }
      ]
    },
    {
      "cell_type": "code",
      "source": [
        "p1.name1 = \"Old\"\n",
        "print(p1.name1,p2.name)"
      ],
      "metadata": {
        "colab": {
          "base_uri": "https://localhost:8080/"
        },
        "id": "II_GJe3De8sc",
        "outputId": "43dd8869-88c9-4b63-fd01-8ca7c464391d"
      },
      "execution_count": 676,
      "outputs": [
        {
          "output_type": "stream",
          "name": "stdout",
          "text": [
            "Old someone\n"
          ]
        }
      ]
    },
    {
      "cell_type": "code",
      "source": [
        "print(p1)"
      ],
      "metadata": {
        "colab": {
          "base_uri": "https://localhost:8080/"
        },
        "id": "oEhVGrhQfiAy",
        "outputId": "642bc133-fb0c-4295-d577-6cebf900eaee"
      },
      "execution_count": 677,
      "outputs": [
        {
          "output_type": "stream",
          "name": "stdout",
          "text": [
            "name:Sufi, age:26\n"
          ]
        }
      ]
    },
    {
      "cell_type": "code",
      "source": [
        "print([p1,p2,p3,p4])"
      ],
      "metadata": {
        "colab": {
          "base_uri": "https://localhost:8080/"
        },
        "id": "tbIpFgKWgUhe",
        "outputId": "ba6d7017-cec2-4d3e-be77-c9c107104894"
      },
      "execution_count": 678,
      "outputs": [
        {
          "output_type": "stream",
          "name": "stdout",
          "text": [
            "[<__main__.person object at 0x7f6e74cbd9a0>, <__main__.person object at 0x7f6e74bbf820>, <__main__.person object at 0x7f6e74cbd9a0>, <__main__.person object at 0x7f6e74d69ee0>]\n"
          ]
        }
      ]
    },
    {
      "cell_type": "code",
      "source": [
        "print(list.__doc__)"
      ],
      "metadata": {
        "colab": {
          "base_uri": "https://localhost:8080/"
        },
        "id": "iM_AhQ77hJOu",
        "outputId": "8b6a93f2-e686-4707-ccd4-102e2d5fc8e3"
      },
      "execution_count": 679,
      "outputs": [
        {
          "output_type": "stream",
          "name": "stdout",
          "text": [
            "Built-in mutable sequence.\n",
            "\n",
            "If no argument is given, the constructor creates a new empty list.\n",
            "The argument must be an iterable if specified.\n"
          ]
        }
      ]
    },
    {
      "cell_type": "code",
      "source": [
        "print(person.__doc__)"
      ],
      "metadata": {
        "colab": {
          "base_uri": "https://localhost:8080/"
        },
        "id": "OGyEnDK5hbN7",
        "outputId": "4783a0a0-8cf3-40c5-fb1f-c0f2eadf1c13"
      },
      "execution_count": 680,
      "outputs": [
        {
          "output_type": "stream",
          "name": "stdout",
          "text": [
            "None\n"
          ]
        }
      ]
    },
    {
      "cell_type": "code",
      "source": [
        "del p1"
      ],
      "metadata": {
        "id": "eyQJNEHLhbEp"
      },
      "execution_count": 681,
      "outputs": []
    },
    {
      "cell_type": "code",
      "source": [
        "print(person.__dict__)"
      ],
      "metadata": {
        "colab": {
          "base_uri": "https://localhost:8080/"
        },
        "id": "CB50IsshjLER",
        "outputId": "d153e0be-7463-4a48-f671-95455c1bcd7b"
      },
      "execution_count": 682,
      "outputs": [
        {
          "output_type": "stream",
          "name": "stdout",
          "text": [
            "{'__module__': '__main__', 'species': 'Homosapien', 'population': 5, 'address': 'Home', 'greetings': <staticmethod object at 0x7f6e74cbddf0>, 'increment_population': <classmethod object at 0x7f6e74cbd370>, '__init__': <function person.__init__ at 0x7f6e74bc4040>, '__str__': <function person.__str__ at 0x7f6e74bc4940>, '__dict__': <attribute '__dict__' of 'person' objects>, '__weakref__': <attribute '__weakref__' of 'person' objects>, '__doc__': None, '__slotnames__': []}\n"
          ]
        }
      ]
    },
    {
      "cell_type": "code",
      "source": [
        "print(p3.__dict__)"
      ],
      "metadata": {
        "colab": {
          "base_uri": "https://localhost:8080/"
        },
        "id": "j-ucGa0fjYAx",
        "outputId": "444fd58c-cfb0-4aa7-afed-299049690844"
      },
      "execution_count": 683,
      "outputs": [
        {
          "output_type": "stream",
          "name": "stdout",
          "text": [
            "{'name': 'Sufi', 'age': 26, 'address': 'Jamal House', 'name1': 'Old'}\n"
          ]
        }
      ]
    },
    {
      "cell_type": "code",
      "source": [
        "print (p3.__dict__.values())"
      ],
      "metadata": {
        "colab": {
          "base_uri": "https://localhost:8080/"
        },
        "id": "EilpJ9-Hjj94",
        "outputId": "b7361ce9-1724-42eb-b24c-dfc87fba342a"
      },
      "execution_count": 684,
      "outputs": [
        {
          "output_type": "stream",
          "name": "stdout",
          "text": [
            "dict_values(['Sufi', 26, 'Jamal House', 'Old'])\n"
          ]
        }
      ]
    },
    {
      "cell_type": "code",
      "source": [
        "print (person.population)\n",
        "p1 = person()"
      ],
      "metadata": {
        "colab": {
          "base_uri": "https://localhost:8080/"
        },
        "id": "ChKamm5nk7FM",
        "outputId": "69e4de2c-7187-4bac-88a7-d07e3b36a296"
      },
      "execution_count": 685,
      "outputs": [
        {
          "output_type": "stream",
          "name": "stdout",
          "text": [
            "5\n",
            "Hello Human\n"
          ]
        }
      ]
    },
    {
      "cell_type": "code",
      "source": [
        "p1.name = 99"
      ],
      "metadata": {
        "id": "LH8SjVXEngwB"
      },
      "execution_count": 686,
      "outputs": []
    },
    {
      "cell_type": "code",
      "source": [
        "class person:\n",
        "\n",
        "\n",
        "  def __init__(self,name,age):\n",
        "    self._name = name\n",
        "    self.set_age(age)\n",
        "    \n",
        "  def get_age(self):\n",
        "    return self._age\n",
        "  \n",
        "  def set_age(self,new_age):\n",
        "    if (isinstance(new_age,int)):\n",
        "      if new_age >0 and new_age <200:\n",
        "        self._age = new_age\n",
        "      else:\n",
        "        print (f\"Age {new_age} is not in valid range\")\n",
        "    else:\n",
        "        print(\"age should be integer\")"
      ],
      "metadata": {
        "id": "5m-n60jEu8TW"
      },
      "execution_count": 687,
      "outputs": []
    },
    {
      "cell_type": "code",
      "source": [
        "p1 = person (\"Ahmad\", 99)\n",
        "p2 = person (\"Noha\",1000)\n"
      ],
      "metadata": {
        "colab": {
          "base_uri": "https://localhost:8080/"
        },
        "id": "68riEYbBvBAS",
        "outputId": "69685e0b-4c4b-4d27-ba3b-f805266f843c"
      },
      "execution_count": 688,
      "outputs": [
        {
          "output_type": "stream",
          "name": "stdout",
          "text": [
            "Age 1000 is not in valid range\n"
          ]
        }
      ]
    },
    {
      "cell_type": "code",
      "source": [
        "p1._name = 96\n",
        "print (p1.get_age())"
      ],
      "metadata": {
        "colab": {
          "base_uri": "https://localhost:8080/"
        },
        "id": "2v_wJzOww8_B",
        "outputId": "7deefa2b-a831-4234-86cb-332e5c1e60b8"
      },
      "execution_count": 689,
      "outputs": [
        {
          "output_type": "stream",
          "name": "stdout",
          "text": [
            "99\n"
          ]
        }
      ]
    },
    {
      "cell_type": "code",
      "source": [
        "p1.set_age(-10)\n",
        "print (p1.get_age())\n"
      ],
      "metadata": {
        "colab": {
          "base_uri": "https://localhost:8080/"
        },
        "id": "7TIEef1EydBj",
        "outputId": "b331b80d-a6a6-48e7-d45a-b9328a3a9635"
      },
      "execution_count": 690,
      "outputs": [
        {
          "output_type": "stream",
          "name": "stdout",
          "text": [
            "Age -10 is not in valid range\n",
            "99\n"
          ]
        }
      ]
    },
    {
      "cell_type": "code",
      "source": [
        "class personII:\n",
        "\n",
        "\n",
        "  def __init__(self,name,age):\n",
        "    self._name = name\n",
        "    self.age =age\n",
        "\n",
        "    @property\n",
        "    def age(self):\n",
        "     return self._age\n",
        "  \n",
        "    @age.setter\n",
        "    def age(self,new_age):\n",
        "     if (isinstance(new_age,int)):\n",
        "      if new_age >0 and new_age <200:\n",
        "        self._age = new_age\n",
        "      else:\n",
        "        print (f\"Age {new_age} is not in valid range\")\n",
        "     else:\n",
        "        print(\"age should be integer\")"
      ],
      "metadata": {
        "id": "_FsdpeKTzfYP"
      },
      "execution_count": 691,
      "outputs": []
    },
    {
      "cell_type": "code",
      "source": [
        "ahmad = personII(\"Ahmad\",10)\n",
        "print(ahmad.age)\n"
      ],
      "metadata": {
        "colab": {
          "base_uri": "https://localhost:8080/"
        },
        "id": "YExETngW0IQl",
        "outputId": "03270a13-6875-4027-8230-f087405bc3b2"
      },
      "execution_count": 692,
      "outputs": [
        {
          "output_type": "stream",
          "name": "stdout",
          "text": [
            "10\n"
          ]
        }
      ]
    }
  ]
}