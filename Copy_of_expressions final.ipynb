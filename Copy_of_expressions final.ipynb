{
  "cells": [
    {
      "cell_type": "markdown",
      "metadata": {
        "id": "view-in-github",
        "colab_type": "text"
      },
      "source": [
        "<a href=\"https://colab.research.google.com/github/DeepsMaxi305/Data_Science/blob/main/Copy_of_expressions%20final.ipynb\" target=\"_parent\"><img src=\"https://colab.research.google.com/assets/colab-badge.svg\" alt=\"Open In Colab\"/></a>"
      ]
    },
    {
      "cell_type": "markdown",
      "id": "loved-gallery",
      "metadata": {
        "id": "loved-gallery"
      },
      "source": [
        "# Expressions"
      ]
    },
    {
      "cell_type": "markdown",
      "id": "false-documentary",
      "metadata": {
        "id": "false-documentary"
      },
      "source": [
        "## Count Seconds in a Decade\n",
        "Write a Python program to calculate the number of seconds in 10 years. Assume that we have 2 leap years in this period. Assign the result into a variable named `seconds_in_10_years`."
      ]
    },
    {
      "cell_type": "code",
      "execution_count": null,
      "id": "prescribed-faculty",
      "metadata": {
        "id": "prescribed-faculty",
        "outputId": "300d9e0d-fc8d-40e4-e291-bae94f7a2f73",
        "colab": {
          "base_uri": "https://localhost:8080/"
        }
      },
      "outputs": [
        {
          "output_type": "stream",
          "name": "stdout",
          "text": [
            "seconds_in_10_years: 315532800\n"
          ]
        }
      ],
      "source": [
        "days_in_10_years = 365*10+2              #365 days in each year plus 1 extra day each in leap year\n",
        "seconds_in_day = 24*60*60                #24 hours by 3600 seconds\n",
        "seconds_in_10_years = days_in_10_years * seconds_in_day   #Calculating number of seconds in 10 years\n",
        "print (f\"seconds_in_10_years: {seconds_in_10_years}\")"
      ]
    },
    {
      "cell_type": "markdown",
      "id": "sealed-mouth",
      "metadata": {
        "id": "sealed-mouth"
      },
      "source": [
        "## Compute the Area of a Circle\n",
        "Write a Python program that computes the area of a circle based on a given radius. The area of circle can be computed by the following formula: $ a = \\pi r^2 $."
      ]
    },
    {
      "cell_type": "code",
      "execution_count": null,
      "id": "amber-macedonia",
      "metadata": {
        "id": "amber-macedonia",
        "outputId": "ef3f5b63-7221-4292-d01a-ec738b9d8a52",
        "colab": {
          "base_uri": "https://localhost:8080/"
        }
      },
      "outputs": [
        {
          "output_type": "stream",
          "name": "stdout",
          "text": [
            "Area of circle with radius 4 has area 50.264\n"
          ]
        }
      ],
      "source": [
        "r=4         #Assuming radius is 4\n",
        "pi=3.1415\n",
        "a=pi*r**2     #Formula to calculate area of the circle\n",
        "print (f\"Area of circle with radius {r} has area {a}\")"
      ]
    },
    {
      "cell_type": "markdown",
      "id": "attached-cleaning",
      "metadata": {
        "id": "attached-cleaning"
      },
      "source": [
        "## Compute Maximum of Numbers\n",
        "Write a Python program that computes the maximum of two inputs: \n",
        "- The first input should be the absolute of -4. \n",
        "- The second input should be the length of the string `\"abc\"`."
      ]
    },
    {
      "cell_type": "code",
      "execution_count": null,
      "id": "aware-resort",
      "metadata": {
        "id": "aware-resort",
        "outputId": "269d5da6-609d-49c3-eae9-65ed4fe14a35",
        "colab": {
          "base_uri": "https://localhost:8080/"
        }
      },
      "outputs": [
        {
          "output_type": "stream",
          "name": "stdout",
          "text": [
            "4\n"
          ]
        }
      ],
      "source": [
        "print (max(abs(-4), len(\"abc\")))    #Prints maximum value from the two inputs"
      ]
    },
    {
      "cell_type": "markdown",
      "id": "cooperative-request",
      "metadata": {
        "id": "cooperative-request"
      },
      "source": [
        "## Compute Euclidean Distance\n",
        "Write a Python program to compute the Euclidean distance between two given points $ (x_1, y_1) $ and $ (x_2, y_2) $, which is $ \\sqrt{(x_1 - x_2)^2 + (y_1 - y_2)^2} $."
      ]
    },
    {
      "cell_type": "code",
      "execution_count": 5,
      "id": "killing-shore",
      "metadata": {
        "id": "killing-shore",
        "outputId": "c73a67b7-052b-494f-dfc4-dc829a85856c",
        "colab": {
          "base_uri": "https://localhost:8080/"
        }
      },
      "outputs": [
        {
          "output_type": "stream",
          "name": "stdout",
          "text": [
            "Euclidean Distance: 3.605551275463989\n"
          ]
        }
      ],
      "source": [
        "x1 = 6.0          #Assuming value for x1\n",
        "y1 = 4.0          #Assuming value for y1\n",
        "x2 = 3.0          #Assuming value for x2\n",
        "y2 = 2.0          #Assuming value for y2\n",
        "d = ( (x1-x2)**2 + (y1-y2)**2 ) ** 0.5    #Formula to calculate Eucledian distance\n",
        "print (f\"Euclidean Distance: {d}\")\n",
        " \n"
      ]
    },
    {
      "cell_type": "markdown",
      "id": "color-texas",
      "metadata": {
        "id": "color-texas"
      },
      "source": [
        "## Convert Fahrenheit to Celsius \n",
        "Write a Python program to convert fahrenheit to celsius based on the the following formula: $ C = (F - 32) \\times \\frac{5}{9}. $"
      ]
    },
    {
      "cell_type": "code",
      "execution_count": 11,
      "id": "broad-ordinary",
      "metadata": {
        "id": "broad-ordinary",
        "outputId": "1218d433-8838-4106-e6bb-cfbd87501f55",
        "colab": {
          "base_uri": "https://localhost:8080/"
        }
      },
      "outputs": [
        {
          "output_type": "stream",
          "name": "stdout",
          "text": [
            "Enter temperature in fahrenheit: 324\n",
            "Temperature in Farenheit is: 324.0\n",
            "Converted Temperature in Celsius is: 162.22222222222223\n"
          ]
        }
      ],
      "source": [
        "f = float(input(\"Enter temperature in fahrenheit: \"))   #Input value of temperature in Farenheit\n",
        "c = (f - 32) * 5/9      #Formula to convert temperature in Farenheit to Celsius\n",
        "print (f\"Temperature in Farenheit is: {f}\")\n",
        "print (f\"Converted Temperature in Celsius is: {c}\")     #Prints converted temperature in Celsius"
      ]
    },
    {
      "cell_type": "markdown",
      "id": "imported-yeast",
      "metadata": {
        "id": "imported-yeast"
      },
      "source": [
        "## Print User's Name\n",
        "Write a Python program which accepts the user's first and last name and prints them in reverse order with a space between them. For example, if the user enters `John Doe`, the program should print `Doe John`. Note that you can use the `input()` function to take user's inputs."
      ]
    },
    {
      "cell_type": "code",
      "execution_count": 12,
      "id": "inner-arabic",
      "metadata": {
        "id": "inner-arabic",
        "outputId": "953efaf2-1792-4238-e162-987ea588b1c0",
        "colab": {
          "base_uri": "https://localhost:8080/"
        }
      },
      "outputs": [
        {
          "output_type": "stream",
          "name": "stdout",
          "text": [
            "Enter First Name : Deepu\n",
            "Enter Last Name : Suresh\n",
            "Suresh Deepu\n"
          ]
        }
      ],
      "source": [
        "f_name = input(\"Enter First Name : \")       #Input user's first name\n",
        "l_name = input(\"Enter Last Name : \")        #Input user's last name\n",
        "print (l_name + \" \" + f_name)               #Prints out name in reverse order"
      ]
    },
    {
      "cell_type": "markdown",
      "id": "3d187e0e",
      "metadata": {
        "id": "3d187e0e"
      },
      "source": [
        "## Read a Text File\n",
        "Write a Python program that opens a text file named `my_file.txt` and writes `Hello world!` in that file."
      ]
    },
    {
      "cell_type": "code",
      "execution_count": 13,
      "id": "468bc699",
      "metadata": {
        "id": "468bc699",
        "colab": {
          "base_uri": "https://localhost:8080/"
        },
        "outputId": "d8dba47c-d86c-481d-9e6d-fc22ada54d8f"
      },
      "outputs": [
        {
          "output_type": "stream",
          "name": "stdout",
          "text": [
            "['Hello world!']\n"
          ]
        }
      ],
      "source": [
        "#Create a text file called my_file and import it in google colab\n",
        "file= open ('my_file.txt','r')       #Opens my_file text document and read it \n",
        "f= file.readlines()                  #Reads the lines in text file my_file.txt\n",
        "print(f)                             #Prints the lines in my_file.txt document"
      ]
    }
  ],
  "metadata": {
    "kernelspec": {
      "display_name": "Python 3",
      "language": "python",
      "name": "python3"
    },
    "language_info": {
      "codemirror_mode": {
        "name": "ipython",
        "version": 3
      },
      "file_extension": ".py",
      "mimetype": "text/x-python",
      "name": "python",
      "nbconvert_exporter": "python",
      "pygments_lexer": "ipython3",
      "version": "3.8.5"
    },
    "colab": {
      "provenance": [],
      "include_colab_link": true
    }
  },
  "nbformat": 4,
  "nbformat_minor": 5
}