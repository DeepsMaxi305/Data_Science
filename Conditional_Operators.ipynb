{
  "nbformat": 4,
  "nbformat_minor": 0,
  "metadata": {
    "colab": {
      "provenance": [],
      "authorship_tag": "ABX9TyMRTWBMbNnbEW6yy+LfC99Y",
      "include_colab_link": true
    },
    "kernelspec": {
      "name": "python3",
      "display_name": "Python 3"
    },
    "language_info": {
      "name": "python"
    }
  },
  "cells": [
    {
      "cell_type": "markdown",
      "metadata": {
        "id": "view-in-github",
        "colab_type": "text"
      },
      "source": [
        "<a href=\"https://colab.research.google.com/github/DeepsMaxi305/Data_Science/blob/main/Conditional_Operators.ipynb\" target=\"_parent\"><img src=\"https://colab.research.google.com/assets/colab-badge.svg\" alt=\"Open In Colab\"/></a>"
      ]
    },
    {
      "cell_type": "markdown",
      "source": [
        "#Control Statements"
      ],
      "metadata": {
        "id": "ERcOpEm3Nsxq"
      }
    },
    {
      "cell_type": "code",
      "source": [
        "age = 18"
      ],
      "metadata": {
        "id": "a1Ksa6s1Nwt2"
      },
      "execution_count": 5,
      "outputs": []
    },
    {
      "cell_type": "code",
      "source": [
        "if age >= 18 :\n",
        "  print (\"Go in\")\n",
        "  print (\"You are old enough\")"
      ],
      "metadata": {
        "colab": {
          "base_uri": "https://localhost:8080/"
        },
        "id": "4kjYtizgPQ5r",
        "outputId": "2f36b0eb-50ba-42d5-b5f6-2a280572a9ba"
      },
      "execution_count": 8,
      "outputs": [
        {
          "output_type": "stream",
          "name": "stdout",
          "text": [
            "Go in\n",
            "You are old enough\n"
          ]
        }
      ]
    },
    {
      "cell_type": "code",
      "source": [
        "from traitlets.config.application import T\n",
        "age = 18\n",
        "isDressed = True\n",
        "\n",
        "if age >= 18 and isDressed :\n",
        "  print(\"Be in\")\n",
        "  print (\"You are old enough\")\n",
        "\n",
        "  isRich = True\n",
        "  isDressed = False\n",
        "\n",
        "  if isRich or isDressed :\n",
        "    print (\"Go in\")\n",
        "    print (\"You are good\")\n"
      ],
      "metadata": {
        "colab": {
          "base_uri": "https://localhost:8080/"
        },
        "id": "WO72vPSDQm7a",
        "outputId": "a9674f67-0574-49c4-c92e-6441164bc23a"
      },
      "execution_count": 14,
      "outputs": [
        {
          "output_type": "stream",
          "name": "stdout",
          "text": [
            "Be in\n",
            "You are old enough\n",
            "Go in\n",
            "You are good\n"
          ]
        }
      ]
    },
    {
      "cell_type": "code",
      "source": [
        "age = 18\n",
        "isDressed = True\n",
        "\n",
        "if age >= 18 and isDressed :\n",
        "  print(\"Go in\")\n",
        "  print (\"You are old enough\")\n",
        "\n",
        "  isRich = 0\n",
        "  isDressed = 0\n",
        "\n",
        "  if not (isRich or isDressed) :\n",
        "    print (\"Sorry\")\n",
        "    print (\"You are not rich or dressed\")"
      ],
      "metadata": {
        "colab": {
          "base_uri": "https://localhost:8080/"
        },
        "id": "K98qSlz-Qy8l",
        "outputId": "0065fdf6-82d2-4853-8c77-a37830aa61fc"
      },
      "execution_count": 16,
      "outputs": [
        {
          "output_type": "stream",
          "name": "stdout",
          "text": [
            "Go in\n",
            "You are old enough\n",
            "Sorry\n",
            "You are not rich or dressed\n"
          ]
        }
      ]
    },
    {
      "cell_type": "code",
      "source": [
        "x = 256\n",
        "y = 256\n",
        "\n",
        "print (x is y)"
      ],
      "metadata": {
        "colab": {
          "base_uri": "https://localhost:8080/"
        },
        "id": "UBQRHAHGS3Vt",
        "outputId": "5f6fd389-5997-4f0b-e09f-2d9e34d96174"
      },
      "execution_count": 17,
      "outputs": [
        {
          "output_type": "stream",
          "name": "stdout",
          "text": [
            "True\n"
          ]
        }
      ]
    },
    {
      "cell_type": "code",
      "source": [
        "x = 257\n",
        "y = 257\n",
        "\n",
        "print (x==y)\n",
        "print (x is y)"
      ],
      "metadata": {
        "colab": {
          "base_uri": "https://localhost:8080/"
        },
        "id": "nH4J-G1YTGSE",
        "outputId": "a8c1bdf1-d43b-4036-b399-3734aed32cca"
      },
      "execution_count": 19,
      "outputs": [
        {
          "output_type": "stream",
          "name": "stdout",
          "text": [
            "True\n",
            "False\n"
          ]
        }
      ]
    },
    {
      "cell_type": "code",
      "source": [
        "age = 18\n",
        "isDressed = True \n",
        "if age >= 18 :\n",
        "  print (\"Go in\")\n",
        "  print (\"You are old enough\")\n",
        "\n",
        "else :\n",
        "  print (\"Sorry come back next year\")\n",
        "\n"
      ],
      "metadata": {
        "colab": {
          "base_uri": "https://localhost:8080/"
        },
        "id": "DboVd0ezUg4G",
        "outputId": "798e0c2e-062b-4726-b837-c3b2698ef5cb"
      },
      "execution_count": 25,
      "outputs": [
        {
          "output_type": "stream",
          "name": "stdout",
          "text": [
            "Go in\n",
            "You are old enough\n"
          ]
        }
      ]
    },
    {
      "cell_type": "code",
      "source": [
        "age = 17\n",
        "isDressed = True \n",
        "if age >= 18 :\n",
        "  print (\"Go in\")\n",
        "  print (\"You are old enough\")\n",
        "\n",
        "else :\n",
        "  print (\"Sorry come back next year\")\n"
      ],
      "metadata": {
        "colab": {
          "base_uri": "https://localhost:8080/"
        },
        "id": "pHz_LFV1Unzl",
        "outputId": "e854ee51-7563-4631-b90e-c865a2048ff6"
      },
      "execution_count": 27,
      "outputs": [
        {
          "output_type": "stream",
          "name": "stdout",
          "text": [
            "Sorry come back next year\n"
          ]
        }
      ]
    },
    {
      "cell_type": "code",
      "source": [
        "from genericpath import isdir\n",
        "isVIP = True\n",
        "isDressed = True\n",
        "\n",
        "if isVIP:\n",
        "  print (\"Welcome\")\n",
        "elif isDressed:\n",
        "  print (\"Go in\")\n",
        "else:\n",
        "  print (\"Sorry\")"
      ],
      "metadata": {
        "colab": {
          "base_uri": "https://localhost:8080/"
        },
        "id": "wHDt5CS0VJcz",
        "outputId": "1d26f066-f65b-479a-fe17-abfac02b8f56"
      },
      "execution_count": 30,
      "outputs": [
        {
          "output_type": "stream",
          "name": "stdout",
          "text": [
            "Welcome\n"
          ]
        }
      ]
    },
    {
      "cell_type": "code",
      "source": [
        "age =18\n",
        "\n",
        "isVIP = True\n",
        "isDressed = True\n",
        "\n",
        "if age >=18 :\n",
        "  print (\"You are old enough\")\n",
        "\n",
        "if isVIP:\n",
        "  print (\"Welcome\")\n",
        "elif isDressed:\n",
        "  print (\"Go in\")\n",
        "else:\n",
        "  print (\"Sorry come back next year\")"
      ],
      "metadata": {
        "colab": {
          "base_uri": "https://localhost:8080/"
        },
        "id": "IMTIdpZ2VZOY",
        "outputId": "702feaab-cbd6-4015-8ba3-375f6478c743"
      },
      "execution_count": 39,
      "outputs": [
        {
          "output_type": "stream",
          "name": "stdout",
          "text": [
            "You are old enough\n",
            "Welcome\n"
          ]
        }
      ]
    },
    {
      "cell_type": "code",
      "source": [
        "age =18\n",
        "\n",
        "isVIP = True\n",
        "isDressed = False\n",
        "\n",
        "if age >= 18 :\n",
        "  print (\"You are old enough\")\n",
        "\n",
        "  if isVIP:\n",
        "    print (\"Welcome \")\n",
        "  elif isDressed:\n",
        "    print (\"Go in\")\n",
        "  else:\n",
        "   print(\"Sorry come back dressed\")\n",
        "\n",
        "else:\n",
        "  print (\"Sorry come back next year\")"
      ],
      "metadata": {
        "colab": {
          "base_uri": "https://localhost:8080/"
        },
        "id": "ORtqn2oJWn37",
        "outputId": "5eab1164-6586-4ce7-dce9-f803f860981c"
      },
      "execution_count": 44,
      "outputs": [
        {
          "output_type": "stream",
          "name": "stdout",
          "text": [
            "You are old enough\n",
            "Welcome \n"
          ]
        }
      ]
    },
    {
      "cell_type": "code",
      "source": [
        "x = 5\n",
        "isOdd = None\n",
        "\n",
        "if x%2:\n",
        "  isOdd = True\n",
        "else:\n",
        "  isOdd = False\n",
        "\n",
        "print (isOdd)\n",
        "\n",
        "isOdd = None\n",
        "xStatus = \"\"\n",
        "\n",
        "x = 4\n",
        "\n",
        "isOdd = True if x%2 else False\n",
        "xStatus = \"x is Odd\" if x%2 else \"x is Even\"\n",
        "\n",
        "print (isOdd)\n",
        "print (xStatus)\n",
        "\n"
      ],
      "metadata": {
        "colab": {
          "base_uri": "https://localhost:8080/"
        },
        "id": "C3we4JRRV9nD",
        "outputId": "3006bfea-6bd0-4394-d91b-26026f36880b"
      },
      "execution_count": 48,
      "outputs": [
        {
          "output_type": "stream",
          "name": "stdout",
          "text": [
            "True\n",
            "False\n",
            "x is Even\n"
          ]
        }
      ]
    }
  ]
}