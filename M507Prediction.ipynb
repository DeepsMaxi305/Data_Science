{
  "nbformat": 4,
  "nbformat_minor": 0,
  "metadata": {
    "colab": {
      "provenance": [],
      "authorship_tag": "ABX9TyPJzj6ZmqQZ0irTcS3hhDrP",
      "include_colab_link": true
    },
    "kernelspec": {
      "name": "python3",
      "display_name": "Python 3"
    },
    "language_info": {
      "name": "python"
    }
  },
  "cells": [
    {
      "cell_type": "markdown",
      "metadata": {
        "id": "view-in-github",
        "colab_type": "text"
      },
      "source": [
        "<a href=\"https://colab.research.google.com/github/DeepsMaxi305/Data_Science/blob/main/M507Prediction.ipynb\" target=\"_parent\"><img src=\"https://colab.research.google.com/assets/colab-badge.svg\" alt=\"Open In Colab\"/></a>"
      ]
    },
    {
      "cell_type": "markdown",
      "source": [
        "#Importing Libraries"
      ],
      "metadata": {
        "id": "TDY1zlY8slEb"
      }
    },
    {
      "cell_type": "code",
      "source": [
        "import pandas as pd\n",
        "from sklearn.preprocessing import MinMaxScaler\n",
        "from sklearn.model_selection import train_test_split\n",
        "from sklearn.impute import SimpleImputer\n",
        "from sklearn.ensemble import HistGradientBoostingClassifier\n",
        "from sklearn.metrics import classification_report, confusion_matrix, roc_auc_score\n"
      ],
      "metadata": {
        "id": "lUzs-QTLsNzm"
      },
      "execution_count": 33,
      "outputs": []
    },
    {
      "cell_type": "markdown",
      "source": [
        "#Load the Dataset"
      ],
      "metadata": {
        "id": "3fN60lVzspAs"
      }
    },
    {
      "cell_type": "code",
      "source": [
        "data = pd.read_csv('stroke_dataset.csv')"
      ],
      "metadata": {
        "id": "GO2ALu8SsrQk"
      },
      "execution_count": 34,
      "outputs": []
    },
    {
      "cell_type": "markdown",
      "source": [
        "#Drop missing values"
      ],
      "metadata": {
        "id": "qiHXd8xNsxdc"
      }
    },
    {
      "cell_type": "code",
      "source": [
        "data.dropna(inplace=True)"
      ],
      "metadata": {
        "id": "VlknufqSs19Q"
      },
      "execution_count": 35,
      "outputs": []
    },
    {
      "cell_type": "markdown",
      "source": [
        "#One Hot Encoding"
      ],
      "metadata": {
        "id": "lr-Qs4zAs51r"
      }
    },
    {
      "cell_type": "code",
      "source": [
        "data_encoded = pd.get_dummies(data, columns=['gender', 'ever_married', 'work_type', 'Residence_type', 'smoking_status'], drop_first=True)"
      ],
      "metadata": {
        "id": "QL8sJ1LAs8Vb"
      },
      "execution_count": 36,
      "outputs": []
    },
    {
      "cell_type": "markdown",
      "source": [
        "#Standardization"
      ],
      "metadata": {
        "id": "n4F_fkHTtCZT"
      }
    },
    {
      "cell_type": "code",
      "source": [
        "scaler = MinMaxScaler()\n",
        "data_encoded[['age', 'avg_glucose_level', 'bmi']] = scaler.fit_transform(data_encoded[['age', 'avg_glucose_level', 'bmi']])"
      ],
      "metadata": {
        "id": "IVU-3XiNtF0o"
      },
      "execution_count": 37,
      "outputs": []
    },
    {
      "cell_type": "markdown",
      "source": [
        "#Splitting Dataset into Train and Test sets"
      ],
      "metadata": {
        "id": "EX0kBHLhtMkt"
      }
    },
    {
      "cell_type": "code",
      "source": [
        "X = data_encoded.drop('stroke', axis=1)\n",
        "y = data_encoded['stroke']\n",
        "X_train, X_test, y_train, y_test = train_test_split(X, y, test_size=0.2, random_state=42)"
      ],
      "metadata": {
        "id": "BtQbn70htUk4"
      },
      "execution_count": 38,
      "outputs": []
    },
    {
      "cell_type": "markdown",
      "source": [
        "#Imputing Missing Values"
      ],
      "metadata": {
        "id": "Mw90d9C7taHW"
      }
    },
    {
      "cell_type": "code",
      "source": [
        "imputer = SimpleImputer(strategy='mean')\n",
        "X_train = imputer.fit_transform(X_train)\n",
        "X_test = imputer.transform(X_test)"
      ],
      "metadata": {
        "id": "mNkmLW_zthFZ"
      },
      "execution_count": 39,
      "outputs": []
    },
    {
      "cell_type": "markdown",
      "source": [
        "#Gradient Boosting Classifier"
      ],
      "metadata": {
        "id": "EVVWntqatlH6"
      }
    },
    {
      "cell_type": "code",
      "source": [
        "model = HistGradientBoostingClassifier()"
      ],
      "metadata": {
        "id": "Xh03m-NJtr4q"
      },
      "execution_count": 40,
      "outputs": []
    },
    {
      "cell_type": "markdown",
      "source": [
        "#Training the Model and Predicting on the Test set"
      ],
      "metadata": {
        "id": "koOLLNujty_e"
      }
    },
    {
      "cell_type": "code",
      "source": [
        "model.fit(X_train, y_train)\n",
        "y_pred = model.predict(X_test)\n"
      ],
      "metadata": {
        "id": "0dga1M2Ut6V8"
      },
      "execution_count": 41,
      "outputs": []
    },
    {
      "cell_type": "markdown",
      "source": [
        "#Calculating Evaluation Metrics"
      ],
      "metadata": {
        "id": "zqHewIB2uBH2"
      }
    },
    {
      "cell_type": "code",
      "source": [
        "print(\"Classification Report:\")\n",
        "print(classification_report(y_test, y_pred))\n",
        "\n",
        "print(\"Confusion Matrix:\")\n",
        "print(confusion_matrix(y_test, y_pred))\n"
      ],
      "metadata": {
        "colab": {
          "base_uri": "https://localhost:8080/"
        },
        "id": "EZ5K2TVPuJi8",
        "outputId": "cca36935-47c5-4a2a-e42c-196e3e1305a0"
      },
      "execution_count": 42,
      "outputs": [
        {
          "output_type": "stream",
          "name": "stdout",
          "text": [
            "Classification Report:\n",
            "              precision    recall  f1-score   support\n",
            "\n",
            "           0       0.95      0.99      0.97       929\n",
            "           1       0.29      0.04      0.07        53\n",
            "\n",
            "    accuracy                           0.94       982\n",
            "   macro avg       0.62      0.52      0.52       982\n",
            "weighted avg       0.91      0.94      0.92       982\n",
            "\n",
            "Confusion Matrix:\n",
            "[[924   5]\n",
            " [ 51   2]]\n"
          ]
        }
      ]
    },
    {
      "cell_type": "markdown",
      "source": [
        "#Calculating the Accuracy"
      ],
      "metadata": {
        "id": "T0XpA4tzuV7M"
      }
    },
    {
      "cell_type": "code",
      "source": [
        "y_pred_prob = model.predict_proba(X_test)[:, 1]\n",
        "auc_roc = roc_auc_score(y_test, y_pred_prob)\n",
        "print(\"AUC-ROC:\", auc_roc)"
      ],
      "metadata": {
        "colab": {
          "base_uri": "https://localhost:8080/"
        },
        "id": "UjLLdD_ruOY0",
        "outputId": "9696eea2-7337-4552-fd6d-d3c1d10ec824"
      },
      "execution_count": 43,
      "outputs": [
        {
          "output_type": "stream",
          "name": "stdout",
          "text": [
            "AUC-ROC: 0.822877104616447\n"
          ]
        }
      ]
    }
  ]
}