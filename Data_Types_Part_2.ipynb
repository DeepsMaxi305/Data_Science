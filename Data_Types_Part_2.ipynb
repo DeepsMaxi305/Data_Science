{
  "nbformat": 4,
  "nbformat_minor": 0,
  "metadata": {
    "colab": {
      "provenance": [],
      "authorship_tag": "ABX9TyPQh0MYBsKrYejPVDZYG8mF",
      "include_colab_link": true
    },
    "kernelspec": {
      "name": "python3",
      "display_name": "Python 3"
    },
    "language_info": {
      "name": "python"
    }
  },
  "cells": [
    {
      "cell_type": "markdown",
      "metadata": {
        "id": "view-in-github",
        "colab_type": "text"
      },
      "source": [
        "<a href=\"https://colab.research.google.com/github/DeepsMaxi305/Data_Science/blob/main/Data_Types_Part_2.ipynb\" target=\"_parent\"><img src=\"https://colab.research.google.com/assets/colab-badge.svg\" alt=\"Open In Colab\"/></a>"
      ]
    },
    {
      "cell_type": "code",
      "source": [
        "s=\"deepu\".upper()\n",
        "print(s)"
      ],
      "metadata": {
        "colab": {
          "base_uri": "https://localhost:8080/"
        },
        "id": "6YDJmeMSPG2h",
        "outputId": "c1ae2419-1abc-40f4-85d6-885e2c7dce55"
      },
      "execution_count": 4,
      "outputs": [
        {
          "output_type": "stream",
          "name": "stdout",
          "text": [
            "DEEPU\n"
          ]
        }
      ]
    },
    {
      "cell_type": "code",
      "source": [
        "s = \"Today the Weather is raining!\"\n",
        "s.split(\" \")"
      ],
      "metadata": {
        "colab": {
          "base_uri": "https://localhost:8080/"
        },
        "id": "IQLrdJimPswY",
        "outputId": "50c1d672-7efe-42e1-dde1-9cc486ff0a90"
      },
      "execution_count": 5,
      "outputs": [
        {
          "output_type": "execute_result",
          "data": {
            "text/plain": [
              "['Today', 'the', 'Weather', 'is', 'raining!']"
            ]
          },
          "metadata": {},
          "execution_count": 5
        }
      ]
    },
    {
      "cell_type": "code",
      "source": [
        "s = \"Today the Weather is raining!\"\n",
        "s.split(\"i\")"
      ],
      "metadata": {
        "colab": {
          "base_uri": "https://localhost:8080/"
        },
        "id": "AXq5dai_QIo8",
        "outputId": "daee6c28-a8cd-4d37-e916-ecc4b23344ed"
      },
      "execution_count": 7,
      "outputs": [
        {
          "output_type": "execute_result",
          "data": {
            "text/plain": [
              "['Today the Weather ', 's ra', 'n', 'ng!']"
            ]
          },
          "metadata": {},
          "execution_count": 7
        }
      ]
    },
    {
      "cell_type": "code",
      "source": [
        "\"hello\".upper()"
      ],
      "metadata": {
        "colab": {
          "base_uri": "https://localhost:8080/",
          "height": 35
        },
        "id": "fCX_wzhcQBUy",
        "outputId": "1344cfc8-bb2e-4ccf-d413-a82e2a3e21d9"
      },
      "execution_count": 6,
      "outputs": [
        {
          "output_type": "execute_result",
          "data": {
            "text/plain": [
              "'HELLO'"
            ],
            "application/vnd.google.colaboratory.intrinsic+json": {
              "type": "string"
            }
          },
          "metadata": {},
          "execution_count": 6
        }
      ]
    },
    {
      "cell_type": "code",
      "source": [
        "s=\"Hello\".replace(\"e\",\"a\")\n",
        "print(s)"
      ],
      "metadata": {
        "colab": {
          "base_uri": "https://localhost:8080/"
        },
        "id": "wNyYgc32PWNo",
        "outputId": "8d82daca-48e6-467c-81d4-0920f02c232b"
      },
      "execution_count": 3,
      "outputs": [
        {
          "output_type": "stream",
          "name": "stdout",
          "text": [
            "Hallo\n"
          ]
        }
      ]
    },
    {
      "cell_type": "code",
      "source": [
        "s = \"Today it is raining!\""
      ],
      "metadata": {
        "id": "P7WXmNG-PWF7"
      },
      "execution_count": 9,
      "outputs": []
    },
    {
      "cell_type": "code",
      "source": [
        "s.count(\"i\")"
      ],
      "metadata": {
        "colab": {
          "base_uri": "https://localhost:8080/"
        },
        "id": "OccM56xrQYAZ",
        "outputId": "3b03e1e3-50e0-44fc-bed7-ea63d0f7a476"
      },
      "execution_count": 10,
      "outputs": [
        {
          "output_type": "execute_result",
          "data": {
            "text/plain": [
              "4"
            ]
          },
          "metadata": {},
          "execution_count": 10
        }
      ]
    },
    {
      "cell_type": "code",
      "source": [
        "s.find(\"it\")"
      ],
      "metadata": {
        "colab": {
          "base_uri": "https://localhost:8080/"
        },
        "id": "fD3MSYLpQo-H",
        "outputId": "0abbd02a-83b9-4577-959b-9d8584ce63f6"
      },
      "execution_count": 11,
      "outputs": [
        {
          "output_type": "execute_result",
          "data": {
            "text/plain": [
              "6"
            ]
          },
          "metadata": {},
          "execution_count": 11
        }
      ]
    },
    {
      "cell_type": "code",
      "source": [
        "s.count(\"I\")"
      ],
      "metadata": {
        "colab": {
          "base_uri": "https://localhost:8080/"
        },
        "id": "ghbv8kTmRKNR",
        "outputId": "8da793cb-9cf4-4b12-d2d6-da83c745d901"
      },
      "execution_count": 13,
      "outputs": [
        {
          "output_type": "execute_result",
          "data": {
            "text/plain": [
              "0"
            ]
          },
          "metadata": {},
          "execution_count": 13
        }
      ]
    },
    {
      "cell_type": "code",
      "source": [
        "name = \"Python\"\n",
        "print(f\"my name is {name}\")"
      ],
      "metadata": {
        "colab": {
          "base_uri": "https://localhost:8080/"
        },
        "id": "qZUcUg6iROuX",
        "outputId": "e29593af-f1b0-424c-effe-949c19d268bf"
      },
      "execution_count": 17,
      "outputs": [
        {
          "output_type": "stream",
          "name": "stdout",
          "text": [
            "my name is Python\n"
          ]
        }
      ]
    },
    {
      "cell_type": "code",
      "source": [
        "s = \"Today it is Raining\"\n",
        "su = s.upper()\n",
        "print (su)\n",
        "s= s.replace(\"i\",\"!\")\n",
        "print(s)"
      ],
      "metadata": {
        "colab": {
          "base_uri": "https://localhost:8080/"
        },
        "id": "dRDFeYU_SS8O",
        "outputId": "dd8645fd-0cda-4fe7-af2a-1889b0ec3cc0"
      },
      "execution_count": 28,
      "outputs": [
        {
          "output_type": "stream",
          "name": "stdout",
          "text": [
            "TODAY IT IS RAINING\n",
            "Today !t !s Ra!n!ng\n"
          ]
        }
      ]
    },
    {
      "cell_type": "code",
      "source": [
        "s"
      ],
      "metadata": {
        "colab": {
          "base_uri": "https://localhost:8080/",
          "height": 35
        },
        "id": "4RJeGA24TmCv",
        "outputId": "ec36d5ec-e225-47f9-a1ab-59e3dbf2971f"
      },
      "execution_count": 29,
      "outputs": [
        {
          "output_type": "execute_result",
          "data": {
            "text/plain": [
              "'Today !t !s Ra!n!ng'"
            ],
            "application/vnd.google.colaboratory.intrinsic+json": {
              "type": "string"
            }
          },
          "metadata": {},
          "execution_count": 29
        }
      ]
    },
    {
      "cell_type": "code",
      "source": [
        "s = s.split(\" \")[0] = \"Hi\"\n"
      ],
      "metadata": {
        "id": "KmREq5eWT2dq"
      },
      "execution_count": 34,
      "outputs": []
    },
    {
      "cell_type": "code",
      "source": [
        "True"
      ],
      "metadata": {
        "colab": {
          "base_uri": "https://localhost:8080/"
        },
        "id": "FAcD408VUUvI",
        "outputId": "cadf312e-3f14-46b4-cb17-1efbbb837914"
      },
      "execution_count": 36,
      "outputs": [
        {
          "output_type": "execute_result",
          "data": {
            "text/plain": [
              "True"
            ]
          },
          "metadata": {},
          "execution_count": 36
        }
      ]
    },
    {
      "cell_type": "code",
      "source": [
        "s = \"Today it is Raining\"\n",
        "print (s[2])"
      ],
      "metadata": {
        "colab": {
          "base_uri": "https://localhost:8080/"
        },
        "id": "2FKrlWtqUULV",
        "outputId": "9580ff96-d5fd-44f1-eb16-d9ebfd44c586"
      },
      "execution_count": 38,
      "outputs": [
        {
          "output_type": "stream",
          "name": "stdout",
          "text": [
            "d\n"
          ]
        }
      ]
    },
    {
      "cell_type": "code",
      "source": [
        "name = \"Mehran\""
      ],
      "metadata": {
        "id": "UHW8NW2XUvye"
      },
      "execution_count": 41,
      "outputs": []
    },
    {
      "cell_type": "code",
      "source": [
        "print (name is not None)"
      ],
      "metadata": {
        "colab": {
          "base_uri": "https://localhost:8080/"
        },
        "id": "jmIGzKeJU1cw",
        "outputId": "2fb6c9dd-fe20-4e14-fb6a-bd7ce9950f97"
      },
      "execution_count": 42,
      "outputs": [
        {
          "output_type": "stream",
          "name": "stdout",
          "text": [
            "True\n"
          ]
        }
      ]
    },
    {
      "cell_type": "code",
      "source": [
        "name = False\n",
        "print (name is not None)"
      ],
      "metadata": {
        "colab": {
          "base_uri": "https://localhost:8080/"
        },
        "id": "E3OyBnjeVCUu",
        "outputId": "c01aed2a-2dee-44be-c88c-380495842fc1"
      },
      "execution_count": 43,
      "outputs": [
        {
          "output_type": "stream",
          "name": "stdout",
          "text": [
            "True\n"
          ]
        }
      ]
    },
    {
      "cell_type": "code",
      "source": [
        "best3 = (\"Reza\", \"Kumar\", \"Mehran\")                                               #Tuples\n",
        "print (best3)"
      ],
      "metadata": {
        "colab": {
          "base_uri": "https://localhost:8080/"
        },
        "id": "zLk72lF_W3Ex",
        "outputId": "a31f3209-fce9-4963-ac03-3199eae7349e"
      },
      "execution_count": 45,
      "outputs": [
        {
          "output_type": "stream",
          "name": "stdout",
          "text": [
            "('Reza', 'Kumar', 'Mehran')\n"
          ]
        }
      ]
    },
    {
      "cell_type": "code",
      "source": [
        "best3[2]"
      ],
      "metadata": {
        "colab": {
          "base_uri": "https://localhost:8080/",
          "height": 35
        },
        "id": "vWe8vs6xXNrn",
        "outputId": "185d05c7-84f0-4346-eb2a-0d5d1dc3d019"
      },
      "execution_count": 46,
      "outputs": [
        {
          "output_type": "execute_result",
          "data": {
            "text/plain": [
              "'Mehran'"
            ],
            "application/vnd.google.colaboratory.intrinsic+json": {
              "type": "string"
            }
          },
          "metadata": {},
          "execution_count": 46
        }
      ]
    },
    {
      "cell_type": "code",
      "source": [
        "best3 = (\"Reza\", \"Kumar\", (\"Mehran\", \"John\"))                                              #Tuples\n",
        "print (best3)\n",
        "best3[2]"
      ],
      "metadata": {
        "colab": {
          "base_uri": "https://localhost:8080/"
        },
        "id": "qvgvMWg6Xcj0",
        "outputId": "77853636-eb7d-44f5-f695-4dec38cb6631"
      },
      "execution_count": 49,
      "outputs": [
        {
          "output_type": "stream",
          "name": "stdout",
          "text": [
            "('Reza', 'Kumar', ('Mehran', 'John'))\n"
          ]
        },
        {
          "output_type": "execute_result",
          "data": {
            "text/plain": [
              "('Mehran', 'John')"
            ]
          },
          "metadata": {},
          "execution_count": 49
        }
      ]
    },
    {
      "cell_type": "code",
      "source": [
        "best_students = tuple ([\"Reza\", \"Kumar\", \"Mehran\", \"John\"])\n",
        "best3 = tuple (best_students[:3])\n",
        "print ( len(best3))"
      ],
      "metadata": {
        "colab": {
          "base_uri": "https://localhost:8080/"
        },
        "id": "k5fQQzGTX0bv",
        "outputId": "7daebac7-6ea0-4307-bc0e-1e90ccdff5c7"
      },
      "execution_count": 57,
      "outputs": [
        {
          "output_type": "stream",
          "name": "stdout",
          "text": [
            "3\n"
          ]
        }
      ]
    },
    {
      "cell_type": "code",
      "source": [
        "best_students = [\"Reza\", \"Kumar\", \"Mehran\", \"John\"]\n",
        "best_students[0] = \"Alice\"\n",
        "best3 = tuple (best_students[:3])\n",
        "print ( len(best3))"
      ],
      "metadata": {
        "colab": {
          "base_uri": "https://localhost:8080/"
        },
        "id": "FCKFlxPNY9UG",
        "outputId": "8fed634a-3521-47de-e20f-5cc8b50dd544"
      },
      "execution_count": 58,
      "outputs": [
        {
          "output_type": "stream",
          "name": "stdout",
          "text": [
            "3\n"
          ]
        }
      ]
    },
    {
      "cell_type": "code",
      "source": [
        "best3.count(\"Mehran\")"
      ],
      "metadata": {
        "colab": {
          "base_uri": "https://localhost:8080/"
        },
        "id": "B9s1Wf2KZDYJ",
        "outputId": "fc62259d-d67b-4f54-db78-5879c5ab939b"
      },
      "execution_count": 59,
      "outputs": [
        {
          "output_type": "execute_result",
          "data": {
            "text/plain": [
              "1"
            ]
          },
          "metadata": {},
          "execution_count": 59
        }
      ]
    },
    {
      "cell_type": "code",
      "source": [
        "best3.index (\"Mehran\")"
      ],
      "metadata": {
        "colab": {
          "base_uri": "https://localhost:8080/"
        },
        "id": "ULMeT_uNZHKI",
        "outputId": "a5d7ec8e-c5e3-473e-dbdf-8c830618d815"
      },
      "execution_count": 60,
      "outputs": [
        {
          "output_type": "execute_result",
          "data": {
            "text/plain": [
              "2"
            ]
          },
          "metadata": {},
          "execution_count": 60
        }
      ]
    },
    {
      "cell_type": "code",
      "source": [
        "best3_list = list(best3)"
      ],
      "metadata": {
        "id": "EdsrOA7mZQ5Z"
      },
      "execution_count": 61,
      "outputs": []
    },
    {
      "cell_type": "code",
      "source": [
        "best_students = [\"Reza\", \"Kumar\", \"Mehran\", \"John\"]\n",
        "best_students.append (\"Alice\")\n",
        "print (best_students)"
      ],
      "metadata": {
        "colab": {
          "base_uri": "https://localhost:8080/"
        },
        "id": "mbBst_xrZehP",
        "outputId": "9e698bdd-2ed3-4447-96e2-cdf881cd44f4"
      },
      "execution_count": 62,
      "outputs": [
        {
          "output_type": "stream",
          "name": "stdout",
          "text": [
            "['Reza', 'Kumar', 'Mehran', 'John', 'Alice']\n"
          ]
        }
      ]
    },
    {
      "cell_type": "code",
      "source": [
        "other_students = [\"Diba\",\"Suz\"]"
      ],
      "metadata": {
        "id": "zIvMiK3YZwCX"
      },
      "execution_count": 63,
      "outputs": []
    },
    {
      "cell_type": "code",
      "source": [
        "best_students.extend(other_students)\n",
        "print (best_students)"
      ],
      "metadata": {
        "colab": {
          "base_uri": "https://localhost:8080/"
        },
        "id": "_KjPGVJuZ4q5",
        "outputId": "8f525921-d245-44ca-b816-e1d9e121e8ab"
      },
      "execution_count": 72,
      "outputs": [
        {
          "output_type": "stream",
          "name": "stdout",
          "text": [
            "['Reza', 'Kumar', 'Memo', 'Memo', 'Memo', 'Memo', 'Memo', 'Memo', 'Mehran', 'John', 'Alice', 'Diba', 'Suz', 'Diba', 'Suz', 'Diba', 'Suz']\n"
          ]
        }
      ]
    },
    {
      "cell_type": "code",
      "source": [
        "best_students.insert(2,\"Memo\")\n"
      ],
      "metadata": {
        "id": "2mzxaxpeaQu1"
      },
      "execution_count": 71,
      "outputs": []
    },
    {
      "cell_type": "code",
      "source": [
        "best_students.pop(-1)"
      ],
      "metadata": {
        "colab": {
          "base_uri": "https://localhost:8080/",
          "height": 35
        },
        "id": "suJFxc5ba9n_",
        "outputId": "90a74a93-27d4-45e3-bea2-0c8056be8f19"
      },
      "execution_count": 73,
      "outputs": [
        {
          "output_type": "execute_result",
          "data": {
            "text/plain": [
              "'Suz'"
            ],
            "application/vnd.google.colaboratory.intrinsic+json": {
              "type": "string"
            }
          },
          "metadata": {},
          "execution_count": 73
        }
      ]
    },
    {
      "cell_type": "code",
      "source": [
        "testlist = [\"abc\", \"bbb\", \"ABC\", \"BBB\"]\n",
        "testlist.sort()\n",
        "print (testlist)"
      ],
      "metadata": {
        "colab": {
          "base_uri": "https://localhost:8080/"
        },
        "id": "wAdHq_1lbDo4",
        "outputId": "03eb28de-9a35-43ca-b2de-b837e22b2020"
      },
      "execution_count": 78,
      "outputs": [
        {
          "output_type": "stream",
          "name": "stdout",
          "text": [
            "['ABC', 'BBB', 'abc', 'bbb']\n"
          ]
        }
      ]
    },
    {
      "cell_type": "code",
      "source": [
        "testlist.reverse()\n",
        "print (testlist)"
      ],
      "metadata": {
        "colab": {
          "base_uri": "https://localhost:8080/"
        },
        "id": "9x0AeafMb1Zl",
        "outputId": "6c4e79dc-8e51-494e-f5d5-c62190c4d357"
      },
      "execution_count": 80,
      "outputs": [
        {
          "output_type": "stream",
          "name": "stdout",
          "text": [
            "['ABC', 'BBB', 'abc', 'bbb']\n"
          ]
        }
      ]
    },
    {
      "cell_type": "code",
      "source": [
        "best_students1 = [\"Reza\", \"Kumar\", \"Mehran\", \"John\"]\n",
        "best_students1.insert(2,\"Memo\")\n",
        "print(best_students1)"
      ],
      "metadata": {
        "colab": {
          "base_uri": "https://localhost:8080/"
        },
        "id": "-qdU0AvHcKao",
        "outputId": "46003650-b840-4c48-b170-62ef115a3577"
      },
      "execution_count": 81,
      "outputs": [
        {
          "output_type": "stream",
          "name": "stdout",
          "text": [
            "['Reza', 'Kumar', 'Memo', 'Mehran', 'John']\n"
          ]
        }
      ]
    },
    {
      "cell_type": "code",
      "source": [
        "s1 = [{1,3,5,7,9}]\n",
        "print (s1[0])\n",
        "print (2 in s1)\n",
        "print (2 not in s1)\n"
      ],
      "metadata": {
        "colab": {
          "base_uri": "https://localhost:8080/"
        },
        "id": "L5TFhVe6jgwq",
        "outputId": "ca3f75ec-eb74-4312-ae6b-fbf1d276f5b6"
      },
      "execution_count": 87,
      "outputs": [
        {
          "output_type": "stream",
          "name": "stdout",
          "text": [
            "{1, 3, 5, 7, 9}\n",
            "False\n",
            "True\n"
          ]
        }
      ]
    },
    {
      "cell_type": "code",
      "source": [
        "s1 = [{1,3,5,7,9}]\n",
        "s1.update([2,4,6])\n",
        "print (s1)\n",
        "s1.remove(6)\n",
        "print(s1)"
      ],
      "metadata": {
        "colab": {
          "base_uri": "https://localhost:8080/",
          "height": 239
        },
        "id": "-AyQX-7jkPlF",
        "outputId": "040e2890-cbf1-4396-ff70-48b7d54d27b2"
      },
      "execution_count": 92,
      "outputs": [
        {
          "output_type": "error",
          "ename": "AttributeError",
          "evalue": "ignored",
          "traceback": [
            "\u001b[0;31m---------------------------------------------------------------------------\u001b[0m",
            "\u001b[0;31mAttributeError\u001b[0m                            Traceback (most recent call last)",
            "\u001b[0;32m<ipython-input-92-700d4a6284c1>\u001b[0m in \u001b[0;36m<module>\u001b[0;34m\u001b[0m\n\u001b[1;32m      1\u001b[0m \u001b[0ms1\u001b[0m \u001b[0;34m=\u001b[0m \u001b[0;34m[\u001b[0m\u001b[0;34m{\u001b[0m\u001b[0;36m1\u001b[0m\u001b[0;34m,\u001b[0m\u001b[0;36m3\u001b[0m\u001b[0;34m,\u001b[0m\u001b[0;36m5\u001b[0m\u001b[0;34m,\u001b[0m\u001b[0;36m7\u001b[0m\u001b[0;34m,\u001b[0m\u001b[0;36m9\u001b[0m\u001b[0;34m}\u001b[0m\u001b[0;34m]\u001b[0m\u001b[0;34m\u001b[0m\u001b[0;34m\u001b[0m\u001b[0m\n\u001b[0;32m----> 2\u001b[0;31m \u001b[0ms1\u001b[0m\u001b[0;34m.\u001b[0m\u001b[0mupdate\u001b[0m\u001b[0;34m(\u001b[0m\u001b[0;34m[\u001b[0m\u001b[0;36m2\u001b[0m\u001b[0;34m,\u001b[0m\u001b[0;36m4\u001b[0m\u001b[0;34m,\u001b[0m\u001b[0;36m6\u001b[0m\u001b[0;34m]\u001b[0m\u001b[0;34m)\u001b[0m\u001b[0;34m\u001b[0m\u001b[0;34m\u001b[0m\u001b[0m\n\u001b[0m\u001b[1;32m      3\u001b[0m \u001b[0mprint\u001b[0m \u001b[0;34m(\u001b[0m\u001b[0ms1\u001b[0m\u001b[0;34m)\u001b[0m\u001b[0;34m\u001b[0m\u001b[0;34m\u001b[0m\u001b[0m\n\u001b[1;32m      4\u001b[0m \u001b[0ms1\u001b[0m\u001b[0;34m.\u001b[0m\u001b[0mremove\u001b[0m\u001b[0;34m(\u001b[0m\u001b[0;36m6\u001b[0m\u001b[0;34m)\u001b[0m\u001b[0;34m\u001b[0m\u001b[0;34m\u001b[0m\u001b[0m\n\u001b[1;32m      5\u001b[0m \u001b[0mprint\u001b[0m\u001b[0;34m(\u001b[0m\u001b[0ms1\u001b[0m\u001b[0;34m)\u001b[0m\u001b[0;34m\u001b[0m\u001b[0;34m\u001b[0m\u001b[0m\n",
            "\u001b[0;31mAttributeError\u001b[0m: 'list' object has no attribute 'update'"
          ]
        }
      ]
    },
    {
      "cell_type": "code",
      "source": [
        "s1 = {1,3,5,7,9}\n",
        "s2 = {5,6,7,8,9}\n",
        "print(s1.union(s2))\n",
        "print(s2.union(s1))"
      ],
      "metadata": {
        "colab": {
          "base_uri": "https://localhost:8080/"
        },
        "id": "lqo30Og9kNPE",
        "outputId": "2f17d133-9171-4ae6-d8ad-18bf62647a2a"
      },
      "execution_count": 94,
      "outputs": [
        {
          "output_type": "stream",
          "name": "stdout",
          "text": [
            "{1, 3, 5, 6, 7, 8, 9}\n",
            "{1, 3, 5, 6, 7, 8, 9}\n"
          ]
        }
      ]
    },
    {
      "cell_type": "code",
      "source": [
        "print (s1. intersection (s2))\n",
        "print (s2. intersection (s1))\n",
        "print (s1 & s2)\n",
        "print (s2 & s1)"
      ],
      "metadata": {
        "colab": {
          "base_uri": "https://localhost:8080/"
        },
        "id": "bOkMTQC1lEB4",
        "outputId": "a5147d90-69fe-4d64-b533-0774653bc198"
      },
      "execution_count": 99,
      "outputs": [
        {
          "output_type": "stream",
          "name": "stdout",
          "text": [
            "{9, 5, 7}\n",
            "{9, 5, 7}\n",
            "{9, 5, 7}\n",
            "{9, 5, 7}\n"
          ]
        }
      ]
    },
    {
      "cell_type": "code",
      "source": [
        "print (s1.difference (s2))\n",
        "print (s2.difference(s1))\n",
        "print (s1-s2)\n",
        "print (s2-s1)"
      ],
      "metadata": {
        "colab": {
          "base_uri": "https://localhost:8080/"
        },
        "id": "QbnOKE3tlry8",
        "outputId": "0b8d668e-082f-4936-c24f-3457371a0c05"
      },
      "execution_count": 98,
      "outputs": [
        {
          "output_type": "stream",
          "name": "stdout",
          "text": [
            "{1, 3}\n",
            "{8, 6}\n",
            "{1, 3}\n",
            "{8, 6}\n"
          ]
        }
      ]
    },
    {
      "cell_type": "code",
      "source": [
        "print (s1.symmetric_difference (s2))\n",
        "print (s2.symmetric_difference (s1))\n",
        "print (s1 ^ s2)\n",
        "print (s2 ^ s1)\n",
        "\n"
      ],
      "metadata": {
        "colab": {
          "base_uri": "https://localhost:8080/"
        },
        "id": "1EObSAF3l9Rm",
        "outputId": "c36dd2f5-b7f2-46c0-dfab-d342e516fd3d"
      },
      "execution_count": 100,
      "outputs": [
        {
          "output_type": "stream",
          "name": "stdout",
          "text": [
            "{1, 3, 6, 8}\n",
            "{1, 3, 6, 8}\n",
            "{1, 3, 6, 8}\n",
            "{1, 3, 6, 8}\n"
          ]
        }
      ]
    },
    {
      "cell_type": "markdown",
      "source": [
        "#Dictionary"
      ],
      "metadata": {
        "id": "q8brBBYtnlvi"
      }
    },
    {
      "cell_type": "code",
      "source": [
        "capitals = {\"Germany\" : \"Berlin\", \"Italy\" : \"Rome\"}\n",
        "print (capitals [\"Germany\"])\n",
        "capitals[\"India\"] = \"New Delhi\"\n",
        "print (capitals [\"India\"])\n",
        "capitals [\"India\"] = \"Delhi\"\n",
        "print (capitals [\"India\"])"
      ],
      "metadata": {
        "colab": {
          "base_uri": "https://localhost:8080/"
        },
        "id": "BRgtnsBgnoA_",
        "outputId": "9ace5648-7ab7-4156-b8bc-ed9f2e1b79be"
      },
      "execution_count": 105,
      "outputs": [
        {
          "output_type": "stream",
          "name": "stdout",
          "text": [
            "Berlin\n",
            "New Delhi\n",
            "Delhi\n"
          ]
        }
      ]
    },
    {
      "cell_type": "code",
      "source": [
        "print (capitals.pop(\"Italy\"))\n",
        "print (capitals)"
      ],
      "metadata": {
        "colab": {
          "base_uri": "https://localhost:8080/"
        },
        "id": "p2vVcREMoZnJ",
        "outputId": "2a630a96-2895-4069-a616-f01c1fce92e6"
      },
      "execution_count": 106,
      "outputs": [
        {
          "output_type": "stream",
          "name": "stdout",
          "text": [
            "Rome\n",
            "{'Germany': 'Berlin', 'India': 'Delhi'}\n"
          ]
        }
      ]
    },
    {
      "cell_type": "code",
      "source": [
        "print (capitals. keys ())\n",
        "print (capitals.values())\n",
        "print (capitals.items ())"
      ],
      "metadata": {
        "colab": {
          "base_uri": "https://localhost:8080/"
        },
        "id": "bYNz21wzokFs",
        "outputId": "a0f92e7c-98c9-4241-f5ee-990e91c3cb3d"
      },
      "execution_count": 107,
      "outputs": [
        {
          "output_type": "stream",
          "name": "stdout",
          "text": [
            "dict_keys(['Germany', 'India'])\n",
            "dict_values(['Berlin', 'Delhi'])\n",
            "dict_items([('Germany', 'Berlin'), ('India', 'Delhi')])\n"
          ]
        }
      ]
    },
    {
      "cell_type": "code",
      "source": [
        "capitals [\"Europe\"] = [\"Brussels\"]\n",
        "capitals [\"Belgium\"] = [\"Brussels\"]\n",
        "print (capitals)"
      ],
      "metadata": {
        "colab": {
          "base_uri": "https://localhost:8080/"
        },
        "id": "CU-J59W8piUQ",
        "outputId": "b070bcda-ae1a-490c-fe0f-4fb13b9cd019"
      },
      "execution_count": 110,
      "outputs": [
        {
          "output_type": "stream",
          "name": "stdout",
          "text": [
            "{'Germany': 'Berlin', 'India': 'Delhi', 'Europe': ['Brussels'], 'Belgium': ['Brussels']}\n"
          ]
        }
      ]
    }
  ]
}