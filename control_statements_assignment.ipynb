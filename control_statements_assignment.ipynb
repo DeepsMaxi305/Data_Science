{
  "cells": [
    {
      "cell_type": "markdown",
      "metadata": {
        "id": "view-in-github",
        "colab_type": "text"
      },
      "source": [
        "<a href=\"https://colab.research.google.com/github/DeepsMaxi305/Data_Science/blob/main/control_statements_assignment.ipynb\" target=\"_parent\"><img src=\"https://colab.research.google.com/assets/colab-badge.svg\" alt=\"Open In Colab\"/></a>"
      ]
    },
    {
      "cell_type": "markdown",
      "id": "broad-significance",
      "metadata": {
        "id": "broad-significance"
      },
      "source": [
        "# Control Statements"
      ]
    },
    {
      "cell_type": "markdown",
      "id": "mighty-picnic",
      "metadata": {
        "id": "mighty-picnic"
      },
      "source": [
        "## Check 2 Numbers are Dividable\n",
        "Write a Python prgoram that takes 2 numbers and prints whether the first one is dividable by the second one or not. For example, if the user inputs 10 and 5, the program should print `\"10 is dividable by 5\"`. "
      ]
    },
    {
      "cell_type": "code",
      "execution_count": 13,
      "id": "everyday-league",
      "metadata": {
        "colab": {
          "base_uri": "https://localhost:8080/"
        },
        "id": "everyday-league",
        "outputId": "4be6ff1a-0968-4cff-dea6-ae91bf844578"
      },
      "outputs": [
        {
          "output_type": "stream",
          "name": "stdout",
          "text": [
            "Enter first number: 6\n",
            "Enter second number: 3\n",
            "6 is divisible by 3\n"
          ]
        },
        {
          "output_type": "execute_result",
          "data": {
            "text/plain": [
              "2"
            ]
          },
          "metadata": {},
          "execution_count": 13
        }
      ],
      "source": [
        "def dividable(num1, num2):\n",
        "    if num1 % num2 == 0:\n",
        "        return True\n",
        "    else:\n",
        "        return False\n",
        "\n",
        "num1 = int(input(\"Enter first number: \"))\n",
        "num2 = int(input(\"Enter second number: \"))\n",
        "\n",
        "if dividable(num1, num2):\n",
        "    print(f\"{num1} is divisible by {num2}\")\n",
        "else:\n",
        "    print(f\"{num1} is not divisible by {num2}\")\n",
        "2"
      ]
    },
    {
      "cell_type": "markdown",
      "id": "certified-smell",
      "metadata": {
        "id": "certified-smell"
      },
      "source": [
        "## Check a Website Address Has .com\n",
        "Write a Python program that takes a website address and prints out whether it ends with `.com` or not. For example, given the string `\"www.google.com\"`, the program should print `\"www.google.com ends with .com\"`."
      ]
    },
    {
      "cell_type": "code",
      "execution_count": 14,
      "id": "framed-index",
      "metadata": {
        "colab": {
          "base_uri": "https://localhost:8080/"
        },
        "id": "framed-index",
        "outputId": "0e36dec9-14cb-4e75-c809-5e4047041567"
      },
      "outputs": [
        {
          "output_type": "stream",
          "name": "stdout",
          "text": [
            "Enter a website address: wwe.com\n",
            "wwe.com ends with .com\n"
          ]
        }
      ],
      "source": [
        "def dotcom(website):\n",
        "    if website.endswith(\".com\"):\n",
        "        return True\n",
        "    else:\n",
        "        return False\n",
        "\n",
        "website = input(\"Enter a website address: \")\n",
        "\n",
        "if dotcom(website):\n",
        "    print(f\"{website} ends with .com\")\n",
        "else:\n",
        "    print(f\"{website} does not end with .com\")\n"
      ]
    },
    {
      "cell_type": "markdown",
      "id": "lonely-hollow",
      "metadata": {
        "id": "lonely-hollow"
      },
      "source": [
        "## Remove Non-String List Elements\n",
        "Write a Python program that takes a list and create another list that only contains string elements of the first list. For example, given the list `[1, \"hello\", 4.3, True, \"bye\"]`, the program should define a list `[\"hello\", \"bye\"]`."
      ]
    },
    {
      "cell_type": "code",
      "execution_count": 15,
      "id": "compound-commissioner",
      "metadata": {
        "colab": {
          "base_uri": "https://localhost:8080/"
        },
        "id": "compound-commissioner",
        "outputId": "fa167cd8-d0dd-438b-d089-e9d59d18d077"
      },
      "outputs": [
        {
          "output_type": "stream",
          "name": "stdout",
          "text": [
            "The list with string elements only: ['hello', 'bye']\n"
          ]
        }
      ],
      "source": [
        "def del_nonstring(input_list):\n",
        "    string_list = []\n",
        "    for element in input_list:\n",
        "        if isinstance(element, str):\n",
        "            string_list.append(element)\n",
        "    return string_list\n",
        "\n",
        "input_list = [1, \"hello\", 4.3, True, \"bye\"]\n",
        "\n",
        "string_list = del_nonstring(input_list)\n",
        "\n",
        "print(\"The list with string elements only:\", string_list)\n"
      ]
    },
    {
      "cell_type": "markdown",
      "id": "conceptual-lobby",
      "metadata": {
        "id": "conceptual-lobby"
      },
      "source": [
        "## Compare Numbers\n",
        "Write a Python program that takes an integer, compares it to a predefined number, and tells the user to guess a larger or smaller number. For example, suppose the predefined number is 10 and the user inputs 7. The program should print `\"7 is too small!\"`."
      ]
    },
    {
      "cell_type": "code",
      "execution_count": 16,
      "id": "religious-leonard",
      "metadata": {
        "colab": {
          "base_uri": "https://localhost:8080/"
        },
        "id": "religious-leonard",
        "outputId": "7040163b-510d-4810-afdc-2c7dc1e6fb47"
      },
      "outputs": [
        {
          "output_type": "stream",
          "name": "stdout",
          "text": [
            "Enter an integer: 10\n",
            "Congratulations! You have guessed the number.\n"
          ]
        }
      ],
      "source": [
        "def compare(guess):\n",
        "    predefined_number = 10\n",
        "    if guess == predefined_number:\n",
        "        return \"Congratulations! You have guessed the number.\"\n",
        "    elif guess < predefined_number:\n",
        "        return \"Too small!\"\n",
        "    else:\n",
        "        return \"Too big!\"\n",
        "\n",
        "guess = int(input(\"Enter an integer: \"))\n",
        "\n",
        "result = compare(guess)\n",
        "\n",
        "print(result)\n"
      ]
    },
    {
      "cell_type": "markdown",
      "id": "gorgeous-knitting",
      "metadata": {
        "id": "gorgeous-knitting"
      },
      "source": [
        "## Sum Even Numbers\n",
        "Write a Python program that computes the sum of even numbers in a given list of integers. "
      ]
    },
    {
      "cell_type": "code",
      "execution_count": 17,
      "id": "artificial-professor",
      "metadata": {
        "colab": {
          "base_uri": "https://localhost:8080/"
        },
        "id": "artificial-professor",
        "outputId": "8a9c9569-99fa-4828-c2cd-208f9353713b"
      },
      "outputs": [
        {
          "output_type": "stream",
          "name": "stdout",
          "text": [
            "The sum of even numbers is: 30\n"
          ]
        }
      ],
      "source": [
        "def sum_even(numbers):\n",
        "    sum = 0\n",
        "    for number in numbers:\n",
        "        if number % 2 == 0:\n",
        "            sum += number\n",
        "    return sum\n",
        "\n",
        "numbers = [1, 2, 3, 4, 5, 6, 7, 8, 9, 10]\n",
        "\n",
        "result = sum_even(numbers)\n",
        "\n",
        "print(\"The sum of even numbers is:\", result)\n"
      ]
    },
    {
      "cell_type": "markdown",
      "id": "e3044c58",
      "metadata": {
        "id": "e3044c58"
      },
      "source": [
        "## Find All Divisors\n",
        "Write a Python prgoram that find all divisors of a given positive integer and store them in a list. For example, given 10, the resulting list should be `[1, 2, 5, 10]`."
      ]
    },
    {
      "cell_type": "code",
      "execution_count": 18,
      "id": "9bee6850",
      "metadata": {
        "colab": {
          "base_uri": "https://localhost:8080/"
        },
        "id": "9bee6850",
        "outputId": "a57704b7-e683-4f7e-83a9-9895aeb104db"
      },
      "outputs": [
        {
          "output_type": "stream",
          "name": "stdout",
          "text": [
            "Enter a positive integer: 4\n",
            "The divisors of 4 are: [1, 2, 4]\n"
          ]
        }
      ],
      "source": [
        "def find_divisor(num):\n",
        "    divisors = []\n",
        "    for i in range(1, num + 1):\n",
        "        if num % i == 0:\n",
        "            divisors.append(i)\n",
        "    return divisors\n",
        "\n",
        "num = int(input(\"Enter a positive integer: \"))\n",
        "\n",
        "divisors = find_divisor(num)\n",
        "\n",
        "print(\"The divisors of\", num, \"are:\", divisors)\n"
      ]
    },
    {
      "cell_type": "markdown",
      "id": "41b462e9",
      "metadata": {
        "id": "41b462e9"
      },
      "source": [
        "## Find the Largest Word\n",
        "Write a Python program that finds the largest word in a given input string. For example, given the string `\"hello how are you\"`, the program should print `\"hello\"`."
      ]
    },
    {
      "cell_type": "code",
      "execution_count": 19,
      "id": "13037cad",
      "metadata": {
        "colab": {
          "base_uri": "https://localhost:8080/"
        },
        "id": "13037cad",
        "outputId": "f632a06f-23f5-4341-b4e9-07cf2cfe5278"
      },
      "outputs": [
        {
          "output_type": "stream",
          "name": "stdout",
          "text": [
            "Enter a sentence: Hello how are you?\n",
            "The largest word in the sentence is: Hello\n"
          ]
        }
      ],
      "source": [
        "def largest_word_sentence(sentence):\n",
        "    words = sentence.split()\n",
        "    largest_word = \"\"\n",
        "    for word in words:\n",
        "        if len(word) > len(largest_word):\n",
        "            largest_word = word\n",
        "    return largest_word\n",
        "\n",
        "sentence = input(\"Enter a sentence: \")\n",
        "\n",
        "largest_word = largest_word_sentence(sentence)\n",
        "\n",
        "print(\"The largest word in the sentence is:\", largest_word)\n"
      ]
    },
    {
      "cell_type": "markdown",
      "id": "3b71775e",
      "metadata": {
        "id": "3b71775e"
      },
      "source": [
        "## Count the Frequency of List Elements\n",
        "Write a Python program that counts the frequency of each element in a given list and store them in a dictionary. For example, given the list `[111, \"hello\", 222, \"hello\", 111]`, the program should define a dictionary `{111: 2, \"hello\": 2, 222: 1}`."
      ]
    },
    {
      "cell_type": "code",
      "execution_count": 21,
      "id": "fdb69cdb",
      "metadata": {
        "colab": {
          "base_uri": "https://localhost:8080/"
        },
        "id": "fdb69cdb",
        "outputId": "557483b9-949e-40a7-ca9d-668a8576b9dd"
      },
      "outputs": [
        {
          "output_type": "stream",
          "name": "stdout",
          "text": [
            "The frequency of each element in the list: {111: 2, 'hello': 2, 222: 1}\n"
          ]
        }
      ],
      "source": [
        "def frequency_count(input_list):\n",
        "    frequency = {}\n",
        "    for element in input_list:\n",
        "        if element in frequency:\n",
        "            frequency[element] += 1\n",
        "        else:\n",
        "            frequency[element] = 1\n",
        "    return frequency\n",
        "\n",
        "input_list = [111, \"hello\", 222, \"hello\", 111]\n",
        "\n",
        "frequency = frequency_count(input_list)\n",
        "\n",
        "print(\"The frequency of each element in the list:\", frequency)"
      ]
    },
    {
      "cell_type": "code",
      "source": [
        "!jupyter nbconvert --to html control_statements_assignment.ipynb"
      ],
      "metadata": {
        "colab": {
          "base_uri": "https://localhost:8080/"
        },
        "id": "CKlQJ6Pwquq4",
        "outputId": "84dd8f61-4f5d-4aa1-d4f4-833f13452181"
      },
      "id": "CKlQJ6Pwquq4",
      "execution_count": 22,
      "outputs": [
        {
          "output_type": "stream",
          "name": "stdout",
          "text": [
            "[NbConvertApp] Converting notebook control_statements_assignment.ipynb to html\n",
            "[NbConvertApp] Writing 294087 bytes to control_statements_assignment.html\n"
          ]
        }
      ]
    }
  ],
  "metadata": {
    "kernelspec": {
      "display_name": "Python 3",
      "language": "python",
      "name": "python3"
    },
    "language_info": {
      "codemirror_mode": {
        "name": "ipython",
        "version": 3
      },
      "file_extension": ".py",
      "mimetype": "text/x-python",
      "name": "python",
      "nbconvert_exporter": "python",
      "pygments_lexer": "ipython3",
      "version": "3.8.5"
    },
    "colab": {
      "provenance": [],
      "include_colab_link": true
    }
  },
  "nbformat": 4,
  "nbformat_minor": 5
}