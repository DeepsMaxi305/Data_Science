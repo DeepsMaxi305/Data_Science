{
  "cells": [
    {
      "cell_type": "markdown",
      "metadata": {
        "id": "view-in-github",
        "colab_type": "text"
      },
      "source": [
        "<a href=\"https://colab.research.google.com/github/DeepsMaxi305/Data_Science/blob/main/functions.ipynb\" target=\"_parent\"><img src=\"https://colab.research.google.com/assets/colab-badge.svg\" alt=\"Open In Colab\"/></a>"
      ]
    },
    {
      "cell_type": "markdown",
      "id": "qualified-overhead",
      "metadata": {
        "id": "qualified-overhead"
      },
      "source": [
        "# Functions"
      ]
    },
    {
      "cell_type": "markdown",
      "id": "geographic-kazakhstan",
      "metadata": {
        "id": "geographic-kazakhstan"
      },
      "source": [
        "## Count Non-Vowel Characters\n",
        "Write a Python function that takes a string and returns the number of non-vowel characters in that string. Vowel characters in English are `\"a\"`, `\"e\"`, `\"i\"`, `\"o\"`, and `\"u\"`. For example, given the string `\"abcdA\"`, the function should return 3."
      ]
    },
    {
      "cell_type": "code",
      "execution_count": 2,
      "id": "increased-introduction",
      "metadata": {
        "colab": {
          "base_uri": "https://localhost:8080/"
        },
        "id": "increased-introduction",
        "outputId": "57429612-d0b6-4d9b-8902-9aaf3290965e"
      },
      "outputs": [
        {
          "output_type": "stream",
          "name": "stdout",
          "text": [
            "3\n"
          ]
        }
      ],
      "source": [
        "def count_non_vowels(string):\n",
        "    vowels = \"aeiouAEIOU\"\n",
        "    count = 0\n",
        "    for char in string:\n",
        "        if char not in vowels:\n",
        "            count += 1\n",
        "    return count\n",
        "string = \"abcdA\"\n",
        "non_vowel_count = count_non_vowels(string)\n",
        "print(non_vowel_count)"
      ]
    },
    {
      "cell_type": "markdown",
      "id": "permanent-lawsuit",
      "metadata": {
        "id": "permanent-lawsuit"
      },
      "source": [
        "## Multiply the List Elements\n",
        "Write a Python function that takes a list of values as input and returns the product of all the numbers in the list. For example, given the input list `[1, 3, 8]`, the function should return 24."
      ]
    },
    {
      "cell_type": "code",
      "execution_count": 3,
      "id": "extensive-dividend",
      "metadata": {
        "colab": {
          "base_uri": "https://localhost:8080/"
        },
        "id": "extensive-dividend",
        "outputId": "271aeaba-e099-4f6b-c559-dc1d2405a7db"
      },
      "outputs": [
        {
          "output_type": "stream",
          "name": "stdout",
          "text": [
            "24\n"
          ]
        }
      ],
      "source": [
        "def product_of_list(lst):\n",
        "    product = 1\n",
        "    for num in lst:\n",
        "        product *= num\n",
        "    return product\n",
        "lst = [1, 3, 8]\n",
        "product = product_of_list(lst)\n",
        "print(product)  # Output: 24\n"
      ]
    },
    {
      "cell_type": "markdown",
      "id": "documented-discharge",
      "metadata": {
        "id": "documented-discharge"
      },
      "source": [
        "## Check if a String is Palindrome\n",
        "Write a Python function that takes a string and returns `True` if it is palindrome. A palindrome is a word, number, phrase, or other sequence of characters which reads the same backward as forward. For example, given the string `\"abc\"` the function should return `False`. But, given the string `\"aba\"`, the function should return `True`."
      ]
    },
    {
      "cell_type": "code",
      "execution_count": 4,
      "id": "homeless-generator",
      "metadata": {
        "colab": {
          "base_uri": "https://localhost:8080/"
        },
        "id": "homeless-generator",
        "outputId": "0a334600-56ab-4b7c-f3a7-dd0fc4583307"
      },
      "outputs": [
        {
          "output_type": "stream",
          "name": "stdout",
          "text": [
            "False\n",
            "True\n"
          ]
        }
      ],
      "source": [
        "def is_palindrome(s):\n",
        "    s = s.lower()\n",
        "    reversed_s = s[::-1]\n",
        "    return s == reversed_s\n",
        "string1 = \"abc\"\n",
        "string2 = \"aba\"\n",
        "print(is_palindrome(string1))  # Output: False\n",
        "print(is_palindrome(string2))  # Output: True\n"
      ]
    },
    {
      "cell_type": "markdown",
      "id": "retired-craps",
      "metadata": {
        "id": "retired-craps"
      },
      "source": [
        "## Count the Unique Digits in an Integer\n",
        "Write a Python function that takes a positive integer and returns the number of unique digits in that integer. For example, given the integer 12315, the function should return 4."
      ]
    },
    {
      "cell_type": "code",
      "execution_count": 6,
      "id": "australian-resort",
      "metadata": {
        "colab": {
          "base_uri": "https://localhost:8080/"
        },
        "id": "australian-resort",
        "outputId": "b12f07c2-b2af-48ce-ec99-a0568cc463ee"
      },
      "outputs": [
        {
          "output_type": "stream",
          "name": "stdout",
          "text": [
            "4\n"
          ]
        }
      ],
      "source": [
        "def count_unique_digits(n):\n",
        "    digits = set(str(n))\n",
        "    return len(digits)\n",
        "n = 12315\n",
        "unique_digit_count = count_unique_digits(n)\n",
        "print(unique_digit_count)  # Output: 4\n"
      ]
    },
    {
      "cell_type": "markdown",
      "id": "upset-physiology",
      "metadata": {
        "id": "upset-physiology"
      },
      "source": [
        "## Check a Number is Prime\n",
        "Write a Python function that takes a number and checks the number is prime or not. It should return `True` for being prime and `False` otherwise. Note that a prime number (or a prime) is a natural number greater than 1 and that has no positive divisors other than 1 and itself. For example, the function should return `True` for the given number 7 and `False` for the given number 10."
      ]
    },
    {
      "cell_type": "code",
      "execution_count": 7,
      "id": "normal-garbage",
      "metadata": {
        "colab": {
          "base_uri": "https://localhost:8080/"
        },
        "id": "normal-garbage",
        "outputId": "d68497f0-2aaa-4978-8763-54fd85a0e95e"
      },
      "outputs": [
        {
          "output_type": "stream",
          "name": "stdout",
          "text": [
            "True\n",
            "False\n"
          ]
        }
      ],
      "source": [
        "def is_prime(n):\n",
        "    if n <= 1:\n",
        "        return False\n",
        "    for i in range(2, int(n ** 0.5) + 1):\n",
        "        if n % i == 0:\n",
        "            return False\n",
        "    return True\n",
        "number1 = 7\n",
        "number2 = 10\n",
        "print(is_prime(number1))  # Output: True\n",
        "print(is_prime(number2))  # Output: False\n"
      ]
    },
    {
      "cell_type": "markdown",
      "id": "daily-console",
      "metadata": {
        "id": "daily-console"
      },
      "source": [
        "## Sort Hyphened-Seperated Words\n",
        "Write a Python function that takes a sequence of words that are separated by hyphens as input and returns the words in a hyphen-separated sequence after sorting the words alphabetically. For example, given the string `\"green-red-yellow-black-white\"`, the function should return `\"black-green-red-white-yellow\"`."
      ]
    },
    {
      "cell_type": "code",
      "execution_count": 8,
      "id": "aging-staff",
      "metadata": {
        "colab": {
          "base_uri": "https://localhost:8080/"
        },
        "id": "aging-staff",
        "outputId": "c2610176-55d4-4fbe-ad0b-4aebf27d53ca"
      },
      "outputs": [
        {
          "output_type": "stream",
          "name": "stdout",
          "text": [
            "black-green-red-white-yellow\n"
          ]
        }
      ],
      "source": [
        "def sort_words(s):\n",
        "    words = s.split('-')\n",
        "    sorted_words = sorted(words)\n",
        "    sorted_s = '-'.join(sorted_words)\n",
        "    return sorted_s\n",
        "s = \"green-red-yellow-black-white\"\n",
        "sorted_s = sort_words(s)\n",
        "print(sorted_s)  # Output: \"black-green-red-white-yellow\"\n"
      ]
    },
    {
      "cell_type": "markdown",
      "id": "dressed-leisure",
      "metadata": {
        "id": "dressed-leisure"
      },
      "source": [
        "## Count the Characters\n",
        "Write a Python function that takes a string as input and returns a dictionary that stores the frequency of each character in the input string. For example, given the string `\"abca\"`, the function should return `{'a': 2, 'b': 1, 'c': 1}`."
      ]
    },
    {
      "cell_type": "code",
      "execution_count": 9,
      "id": "complete-stress",
      "metadata": {
        "colab": {
          "base_uri": "https://localhost:8080/"
        },
        "id": "complete-stress",
        "outputId": "6526657b-08f6-45b8-8bb9-938383d652b6"
      },
      "outputs": [
        {
          "output_type": "stream",
          "name": "stdout",
          "text": [
            "{'a': 2, 'b': 1, 'c': 1}\n"
          ]
        }
      ],
      "source": [
        "def count_chars(s):\n",
        "    char_dict = {}\n",
        "    for char in s:\n",
        "        if char in char_dict:\n",
        "            char_dict[char] += 1\n",
        "        else:\n",
        "            char_dict[char] = 1\n",
        "    return char_dict\n",
        "s = \"abca\"\n",
        "char_dict = count_chars(s)\n",
        "print(char_dict)  # Output: {'a': 2, 'b': 1, 'c': 1}\n"
      ]
    },
    {
      "cell_type": "markdown",
      "id": "aerial-uganda",
      "metadata": {
        "id": "aerial-uganda"
      },
      "source": [
        "## Compute the Fibonacci Sequence\n",
        "The Fibonacci Sequence is computed based on the following formula:     \n",
        "\n",
        "$$ f(n) = 0 \\text{   if } n = 0; \\\\\n",
        "f(n) = 1 \\text{   if } n = 1; \\\\\n",
        "f(n) = f(n-1) + f(n-2) \\text{   if } n > 1. $$     \n",
        "\n",
        "Write a Python function that computes the value of `f(n)` with a given `n` as input. For example, given 7, the function should return 13."
      ]
    },
    {
      "cell_type": "code",
      "execution_count": 10,
      "id": "compatible-senate",
      "metadata": {
        "colab": {
          "base_uri": "https://localhost:8080/"
        },
        "id": "compatible-senate",
        "outputId": "219302e2-ea3e-420e-a061-fd5098795189"
      },
      "outputs": [
        {
          "output_type": "stream",
          "name": "stdout",
          "text": [
            "13\n"
          ]
        }
      ],
      "source": [
        "def fibonacci(n):\n",
        "    if n == 0:\n",
        "        return 0\n",
        "    elif n == 1:\n",
        "        return 1\n",
        "    else:\n",
        "        return fibonacci(n-1) + fibonacci(n-2)\n",
        "n = 7\n",
        "fib_n = fibonacci(n)\n",
        "print(fib_n)  # Output: 13\n"
      ]
    },
    {
      "cell_type": "code",
      "source": [
        "!jupyter nbconvert --to html functions.ipynb"
      ],
      "metadata": {
        "colab": {
          "base_uri": "https://localhost:8080/"
        },
        "id": "drfur-q_5hab",
        "outputId": "92937140-1e0a-4b19-c4f1-1b87d1ec3b97"
      },
      "id": "drfur-q_5hab",
      "execution_count": 11,
      "outputs": [
        {
          "output_type": "stream",
          "name": "stdout",
          "text": [
            "[NbConvertApp] Converting notebook functions.ipynb to html\n",
            "[NbConvertApp] Writing 291523 bytes to functions.html\n"
          ]
        }
      ]
    }
  ],
  "metadata": {
    "kernelspec": {
      "display_name": "Python 3",
      "language": "python",
      "name": "python3"
    },
    "language_info": {
      "codemirror_mode": {
        "name": "ipython",
        "version": 3
      },
      "file_extension": ".py",
      "mimetype": "text/x-python",
      "name": "python",
      "nbconvert_exporter": "python",
      "pygments_lexer": "ipython3",
      "version": "3.8.5"
    },
    "colab": {
      "provenance": [],
      "include_colab_link": true
    }
  },
  "nbformat": 4,
  "nbformat_minor": 5
}