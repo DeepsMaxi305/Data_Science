{
  "nbformat": 4,
  "nbformat_minor": 0,
  "metadata": {
    "colab": {
      "provenance": [],
      "authorship_tag": "ABX9TyNTJmbnBQigBjmNk/WpKkD8",
      "include_colab_link": true
    },
    "kernelspec": {
      "name": "python3",
      "display_name": "Python 3"
    },
    "language_info": {
      "name": "python"
    }
  },
  "cells": [
    {
      "cell_type": "markdown",
      "metadata": {
        "id": "view-in-github",
        "colab_type": "text"
      },
      "source": [
        "<a href=\"https://colab.research.google.com/github/DeepsMaxi305/Data_Science/blob/main/Functions.ipynb\" target=\"_parent\"><img src=\"https://colab.research.google.com/assets/colab-badge.svg\" alt=\"Open In Colab\"/></a>"
      ]
    },
    {
      "cell_type": "code",
      "source": [
        "3*3"
      ],
      "metadata": {
        "colab": {
          "base_uri": "https://localhost:8080/"
        },
        "id": "idvOek31S_fs",
        "outputId": "a018b64f-ec09-4b56-c2e8-2b2095d6170d"
      },
      "execution_count": 205,
      "outputs": [
        {
          "output_type": "execute_result",
          "data": {
            "text/plain": [
              "9"
            ]
          },
          "metadata": {},
          "execution_count": 205
        }
      ]
    },
    {
      "cell_type": "code",
      "source": [
        "1245*1245"
      ],
      "metadata": {
        "colab": {
          "base_uri": "https://localhost:8080/"
        },
        "id": "n6BkY4ueTBUC",
        "outputId": "eb1206a7-7335-4a24-b1dd-036bf74eba00"
      },
      "execution_count": 206,
      "outputs": [
        {
          "output_type": "execute_result",
          "data": {
            "text/plain": [
              "1550025"
            ]
          },
          "metadata": {},
          "execution_count": 206
        }
      ]
    },
    {
      "cell_type": "code",
      "execution_count": 207,
      "metadata": {
        "id": "hj0LxGCpShIj"
      },
      "outputs": [],
      "source": [
        "def my_square(x):\n",
        "  #This is a sample doc string for a function\n",
        "\n",
        "  return x*x"
      ]
    },
    {
      "cell_type": "code",
      "source": [
        "my_square(4.1)"
      ],
      "metadata": {
        "colab": {
          "base_uri": "https://localhost:8080/"
        },
        "id": "0VMMF8wxS7Yj",
        "outputId": "08440fd2-29ab-454a-b4c0-13397683b256"
      },
      "execution_count": 208,
      "outputs": [
        {
          "output_type": "execute_result",
          "data": {
            "text/plain": [
              "16.81"
            ]
          },
          "metadata": {},
          "execution_count": 208
        }
      ]
    },
    {
      "cell_type": "code",
      "source": [
        "import math"
      ],
      "metadata": {
        "id": "HUM4gAjxUCy-"
      },
      "execution_count": 209,
      "outputs": []
    },
    {
      "cell_type": "code",
      "source": [
        "pi = 22/7\n",
        "\n",
        "print(math.cos(math.pi))\n",
        "print(math.pi)"
      ],
      "metadata": {
        "colab": {
          "base_uri": "https://localhost:8080/"
        },
        "id": "q-ApOkcyUG6r",
        "outputId": "c53220e3-df50-4725-b8be-db6cfbb71f4e"
      },
      "execution_count": 210,
      "outputs": [
        {
          "output_type": "stream",
          "name": "stdout",
          "text": [
            "-1.0\n",
            "3.141592653589793\n"
          ]
        }
      ]
    },
    {
      "cell_type": "code",
      "source": [
        "from math import pi, sin\n",
        "print (sin(pi))"
      ],
      "metadata": {
        "colab": {
          "base_uri": "https://localhost:8080/"
        },
        "id": "65DykRvBUkaQ",
        "outputId": "ec9ac79b-97c7-4fca-dc70-79069421787a"
      },
      "execution_count": 211,
      "outputs": [
        {
          "output_type": "stream",
          "name": "stdout",
          "text": [
            "1.2246467991473532e-16\n"
          ]
        }
      ]
    },
    {
      "cell_type": "code",
      "source": [
        "print(math.cos(pi))"
      ],
      "metadata": {
        "colab": {
          "base_uri": "https://localhost:8080/"
        },
        "id": "IXYxtX8MUsV3",
        "outputId": "f6da1c77-e8dd-4224-efb9-ecd4a2112322"
      },
      "execution_count": 212,
      "outputs": [
        {
          "output_type": "stream",
          "name": "stdout",
          "text": [
            "-1.0\n"
          ]
        }
      ]
    },
    {
      "cell_type": "code",
      "source": [
        "import math as m\n",
        "m.cos(pi)"
      ],
      "metadata": {
        "colab": {
          "base_uri": "https://localhost:8080/"
        },
        "id": "5QO93HwGVB9M",
        "outputId": "05c65615-b72d-4f5d-cac1-8f174c884bcb"
      },
      "execution_count": 213,
      "outputs": [
        {
          "output_type": "execute_result",
          "data": {
            "text/plain": [
              "-1.0"
            ]
          },
          "metadata": {},
          "execution_count": 213
        }
      ]
    },
    {
      "cell_type": "code",
      "source": [
        "import numpy as np\n"
      ],
      "metadata": {
        "id": "wgtjo7OOVPeC"
      },
      "execution_count": 214,
      "outputs": []
    },
    {
      "cell_type": "code",
      "source": [
        "import numpy as np\n"
      ],
      "metadata": {
        "id": "3YkaI83UVpEP"
      },
      "execution_count": 215,
      "outputs": []
    },
    {
      "cell_type": "code",
      "source": [
        "from re import X\n",
        "def my_square(x):\n",
        "  #This function squares a number\n",
        "  x2 = x*x\n",
        "  return x2"
      ],
      "metadata": {
        "id": "vVwtQOaJWRNN"
      },
      "execution_count": 216,
      "outputs": []
    },
    {
      "cell_type": "code",
      "source": [
        "x = 7\n",
        "x_square = my_square (x)\n",
        "print (f\"square of {x} is {x_square}\")"
      ],
      "metadata": {
        "colab": {
          "base_uri": "https://localhost:8080/"
        },
        "id": "IhCIyeKuWpYs",
        "outputId": "cc8b9108-39e6-497a-d3af-be46f3e5c1ff"
      },
      "execution_count": 217,
      "outputs": [
        {
          "output_type": "stream",
          "name": "stdout",
          "text": [
            "square of 7 is 49\n"
          ]
        }
      ]
    },
    {
      "cell_type": "code",
      "source": [
        "from math import factorial\n",
        "factorial (5)"
      ],
      "metadata": {
        "colab": {
          "base_uri": "https://localhost:8080/"
        },
        "id": "GILPwNYHXZG5",
        "outputId": "bce847a3-a04b-4952-8272-c920d0cb1126"
      },
      "execution_count": 218,
      "outputs": [
        {
          "output_type": "execute_result",
          "data": {
            "text/plain": [
              "120"
            ]
          },
          "metadata": {},
          "execution_count": 218
        }
      ]
    },
    {
      "cell_type": "code",
      "source": [
        "def my_factorial (n):\n",
        "  f = 1\n",
        "  for i in range (1, n+1):\n",
        "    f = f*i\n",
        "    return f"
      ],
      "metadata": {
        "id": "f_EqvrD2Xjp-"
      },
      "execution_count": 219,
      "outputs": []
    },
    {
      "cell_type": "code",
      "source": [
        "my_factorial (5)"
      ],
      "metadata": {
        "colab": {
          "base_uri": "https://localhost:8080/"
        },
        "id": "hyuOZvxtXoKx",
        "outputId": "1e03cebc-af23-4592-c106-d4473b748409"
      },
      "execution_count": 220,
      "outputs": [
        {
          "output_type": "execute_result",
          "data": {
            "text/plain": [
              "1"
            ]
          },
          "metadata": {},
          "execution_count": 220
        }
      ]
    },
    {
      "cell_type": "code",
      "source": [
        "my_factorial(5)"
      ],
      "metadata": {
        "colab": {
          "base_uri": "https://localhost:8080/"
        },
        "id": "jce7f9vDYnGK",
        "outputId": "f302dcec-e73e-4240-efc0-03a2fe637c4e"
      },
      "execution_count": 221,
      "outputs": [
        {
          "output_type": "execute_result",
          "data": {
            "text/plain": [
              "1"
            ]
          },
          "metadata": {},
          "execution_count": 221
        }
      ]
    },
    {
      "cell_type": "code",
      "source": [
        "print(my_factorial.__doc__)\n"
      ],
      "metadata": {
        "colab": {
          "base_uri": "https://localhost:8080/"
        },
        "id": "6MvoVXJYY5-Y",
        "outputId": "cd579f87-1808-41e2-a006-0d54d2556063"
      },
      "execution_count": 222,
      "outputs": [
        {
          "output_type": "stream",
          "name": "stdout",
          "text": [
            "None\n"
          ]
        }
      ]
    },
    {
      "cell_type": "code",
      "source": [
        "def triple_add(x,y,z):\n",
        "  \"\"\"\n",
        "  adds 3 inputs\n",
        "  \"\"\"\n",
        "\n",
        "  sum = x + y + z\n",
        "  return sum"
      ],
      "metadata": {
        "id": "V5J-2XJcZHTZ"
      },
      "execution_count": 223,
      "outputs": []
    },
    {
      "cell_type": "code",
      "source": [
        "triple_add (1000,200,30)"
      ],
      "metadata": {
        "colab": {
          "base_uri": "https://localhost:8080/"
        },
        "id": "E9edYrrWZZsP",
        "outputId": "cdb9cd28-8d8b-4cad-f2b7-a1fe987b36ad"
      },
      "execution_count": 224,
      "outputs": [
        {
          "output_type": "execute_result",
          "data": {
            "text/plain": [
              "1230"
            ]
          },
          "metadata": {},
          "execution_count": 224
        }
      ]
    },
    {
      "cell_type": "code",
      "source": [
        "def name_gen (first_name, last_name, title=\"Sir\",middle_name=\"\"):\n",
        "  \"\"\"generates name \n",
        "  \"\"\"\n",
        "  name = f\"{title} {first_name} {middle_name} {last_name}\"\n",
        "  print(name)\n",
        "  return name"
      ],
      "metadata": {
        "id": "biVbCJIsaAmi"
      },
      "execution_count": 225,
      "outputs": []
    },
    {
      "cell_type": "code",
      "source": [
        "name_gen(\"Alex\",\"Adam\",)\n",
        "name_gen(\"Alex\",\"Adam\",\"Lord\")\n",
        "name_gen(\"Alex\",\"Adam\",\"Lord\",\"Max\")"
      ],
      "metadata": {
        "colab": {
          "base_uri": "https://localhost:8080/",
          "height": 87
        },
        "id": "S12Iu5Fhasgh",
        "outputId": "8c130a3a-9d75-4d26-9305-cf444bc72a0e"
      },
      "execution_count": 226,
      "outputs": [
        {
          "output_type": "stream",
          "name": "stdout",
          "text": [
            "Sir Alex  Adam\n",
            "Lord Alex  Adam\n",
            "Lord Alex Max Adam\n"
          ]
        },
        {
          "output_type": "execute_result",
          "data": {
            "text/plain": [
              "'Lord Alex Max Adam'"
            ],
            "application/vnd.google.colaboratory.intrinsic+json": {
              "type": "string"
            }
          },
          "metadata": {},
          "execution_count": 226
        }
      ]
    },
    {
      "cell_type": "code",
      "source": [
        "name_gen(title =\"Madam\", first_name=\"Lilli\",middle_name=\"Mary\",last_name=\"Baker\")"
      ],
      "metadata": {
        "colab": {
          "base_uri": "https://localhost:8080/",
          "height": 52
        },
        "id": "_-8VqJJ2cVuY",
        "outputId": "7608a88e-1fd9-44df-9a37-b65093de6523"
      },
      "execution_count": 227,
      "outputs": [
        {
          "output_type": "stream",
          "name": "stdout",
          "text": [
            "Madam Lilli Mary Baker\n"
          ]
        },
        {
          "output_type": "execute_result",
          "data": {
            "text/plain": [
              "'Madam Lilli Mary Baker'"
            ],
            "application/vnd.google.colaboratory.intrinsic+json": {
              "type": "string"
            }
          },
          "metadata": {},
          "execution_count": 227
        }
      ]
    },
    {
      "cell_type": "code",
      "source": [
        "def greeter(*args):\n",
        "  for name in args:\n",
        "    print(f\"Welcome {name}!\")"
      ],
      "metadata": {
        "id": "c8gDVmNFc_TL"
      },
      "execution_count": 228,
      "outputs": []
    },
    {
      "cell_type": "code",
      "source": [
        "greeter(\"I\",\"Me\",\"Myself\",\"Ich\",1000, pi)"
      ],
      "metadata": {
        "colab": {
          "base_uri": "https://localhost:8080/"
        },
        "id": "sqBl0zB3dTKc",
        "outputId": "59a190e6-e454-498b-a61a-94c0ac7ac0ef"
      },
      "execution_count": 229,
      "outputs": [
        {
          "output_type": "stream",
          "name": "stdout",
          "text": [
            "Welcome I!\n",
            "Welcome Me!\n",
            "Welcome Myself!\n",
            "Welcome Ich!\n",
            "Welcome 1000!\n",
            "Welcome 3.141592653589793!\n"
          ]
        }
      ]
    },
    {
      "cell_type": "code",
      "source": [
        "square = lambda x:x*x"
      ],
      "metadata": {
        "id": "3N_bIpR7eUGI"
      },
      "execution_count": 230,
      "outputs": []
    },
    {
      "cell_type": "code",
      "source": [
        "square(5)"
      ],
      "metadata": {
        "colab": {
          "base_uri": "https://localhost:8080/"
        },
        "id": "BsKjY1FkeaWq",
        "outputId": "3693895c-d32e-4f85-98d1-eed8ebf59836"
      },
      "execution_count": 231,
      "outputs": [
        {
          "output_type": "execute_result",
          "data": {
            "text/plain": [
              "25"
            ]
          },
          "metadata": {},
          "execution_count": 231
        }
      ]
    },
    {
      "cell_type": "code",
      "source": [
        "def factorial_rec(n):\n",
        "  if n==1 : \n",
        "    print (f\"{1}! = 1\")\n",
        "    \n",
        "    return 1\n",
        "  \n",
        "  else:\n",
        "    print (f\"{n} = {n-1}! x {n}\")\n",
        "    return n*factorial_rec(n-1)\n",
        "\n"
      ],
      "metadata": {
        "id": "EIvMvuujfTRu"
      },
      "execution_count": 232,
      "outputs": []
    },
    {
      "cell_type": "code",
      "source": [
        "factorial_rec(5)"
      ],
      "metadata": {
        "colab": {
          "base_uri": "https://localhost:8080/"
        },
        "id": "RQ9VIGPxfXWH",
        "outputId": "7d8b3a0e-fb50-4424-c5b9-f63d51c71600"
      },
      "execution_count": 233,
      "outputs": [
        {
          "output_type": "stream",
          "name": "stdout",
          "text": [
            "5 = 4! x 5\n",
            "4 = 3! x 4\n",
            "3 = 2! x 3\n",
            "2 = 1! x 2\n",
            "1! = 1\n"
          ]
        },
        {
          "output_type": "execute_result",
          "data": {
            "text/plain": [
              "120"
            ]
          },
          "metadata": {},
          "execution_count": 233
        }
      ]
    },
    {
      "cell_type": "code",
      "source": [
        "a = 10\n",
        "myname =\"Max\""
      ],
      "metadata": {
        "id": "WRJkFYFNh2EB"
      },
      "execution_count": 234,
      "outputs": []
    },
    {
      "cell_type": "code",
      "source": [
        "def test ():\n",
        "  local_name = \"lack\"\n",
        "\n",
        "  print (f\"{myname} & {local_name} are friends\")"
      ],
      "metadata": {
        "id": "aS6Zsac_h6gE"
      },
      "execution_count": 235,
      "outputs": []
    },
    {
      "cell_type": "code",
      "source": [
        "test()\n"
      ],
      "metadata": {
        "colab": {
          "base_uri": "https://localhost:8080/"
        },
        "id": "QGAFmgZph780",
        "outputId": "17c3a233-fb0e-4d32-ec5f-8f41c0742677"
      },
      "execution_count": 236,
      "outputs": [
        {
          "output_type": "stream",
          "name": "stdout",
          "text": [
            "Max & lack are friends\n"
          ]
        }
      ]
    },
    {
      "cell_type": "code",
      "source": [
        "def test ():\n",
        "  global name2\n",
        "  local_name = \"lack\"\n",
        "  name1 =\"Alex\"\n",
        "  name2 =\"Kusha\"\n",
        "\n",
        "  print (f\"{name1} & {name2} & {local_name} are friends\")"
      ],
      "metadata": {
        "id": "3nrfehsti48R"
      },
      "execution_count": 237,
      "outputs": []
    },
    {
      "cell_type": "code",
      "source": [
        "name1 =\"Max\"\n",
        "name2 =\"Kumar\"\n",
        "\n",
        "print(name1,name2)\n",
        "test()\n",
        "print(name1, name2)"
      ],
      "metadata": {
        "colab": {
          "base_uri": "https://localhost:8080/"
        },
        "id": "neHtiX90j79B",
        "outputId": "851c2682-36b5-4080-ffb1-9ecec1975cba"
      },
      "execution_count": 238,
      "outputs": [
        {
          "output_type": "stream",
          "name": "stdout",
          "text": [
            "Max Kumar\n",
            "Alex & Kusha & lack are friends\n",
            "Max Kusha\n"
          ]
        }
      ]
    },
    {
      "cell_type": "code",
      "source": [
        "def name_gen(first_name, last_name, title=\"Sir\", middle_name=\"\"):\n",
        "  \"\"\"Generates name\"\"\"\n",
        "  \n",
        "  s=\"\"\n",
        "  \n",
        "  def capitalize():\n",
        "    nonlocal s\n",
        "\n",
        "\n",
        "    if len(s) <2 : \n",
        "      s = s.upper()\n",
        "    else:\n",
        "      s = s.upper()[0]+s.lower()[1:]\n",
        "  name = f'{title} {first_name} {middle_name} {last_name}'\n",
        "  return name"
      ],
      "metadata": {
        "id": "yJE5UqLHkB3R"
      },
      "execution_count": 240,
      "outputs": []
    },
    {
      "cell_type": "code",
      "source": [
        "name_gen(\"Kusha\", \"Ziad\")"
      ],
      "metadata": {
        "colab": {
          "base_uri": "https://localhost:8080/",
          "height": 35
        },
        "id": "fXmTF4Y3k9jk",
        "outputId": "3c93ef35-96d6-44a0-813d-321f4ac8105d"
      },
      "execution_count": 241,
      "outputs": [
        {
          "output_type": "execute_result",
          "data": {
            "text/plain": [
              "'Sir Kusha  Ziad'"
            ],
            "application/vnd.google.colaboratory.intrinsic+json": {
              "type": "string"
            }
          },
          "metadata": {},
          "execution_count": 241
        }
      ]
    },
    {
      "cell_type": "code",
      "source": [
        "def name_gen(first_name, last_name, title=\"Sir\", middle_name=\"\"):\n",
        "  \"\"\"Generates name\"\"\"\n",
        "  \n",
        "  def capitalize():\n",
        "    nonlocal first_name, last_name, title, middle_name\n",
        "    first_name = first_name.title()\n",
        "    last_name = last_name.title()\n",
        "\n",
        "  capitalize()\n",
        "  \n",
        "  name = f'{title} {first_name} {middle_name} {last_name}'\n",
        "  return name"
      ],
      "metadata": {
        "id": "BBx8EykqnX9j"
      },
      "execution_count": 242,
      "outputs": []
    },
    {
      "cell_type": "code",
      "source": [
        "name_gen(\"Kusha\", \"Ziad\")"
      ],
      "metadata": {
        "colab": {
          "base_uri": "https://localhost:8080/",
          "height": 35
        },
        "id": "DKZ8tiOPoIjX",
        "outputId": "156dda25-00c5-416b-d58a-1d9a31f4ef39"
      },
      "execution_count": 243,
      "outputs": [
        {
          "output_type": "execute_result",
          "data": {
            "text/plain": [
              "'Sir Kusha  Ziad'"
            ],
            "application/vnd.google.colaboratory.intrinsic+json": {
              "type": "string"
            }
          },
          "metadata": {},
          "execution_count": 243
        }
      ]
    }
  ]
}