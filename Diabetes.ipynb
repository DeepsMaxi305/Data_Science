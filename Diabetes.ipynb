{
  "nbformat": 4,
  "nbformat_minor": 0,
  "metadata": {
    "colab": {
      "provenance": [],
      "authorship_tag": "ABX9TyNagfcS3lcjwQVSJ+KIY6SY",
      "include_colab_link": true
    },
    "kernelspec": {
      "name": "python3",
      "display_name": "Python 3"
    },
    "language_info": {
      "name": "python"
    }
  },
  "cells": [
    {
      "cell_type": "markdown",
      "metadata": {
        "id": "view-in-github",
        "colab_type": "text"
      },
      "source": [
        "<a href=\"https://colab.research.google.com/github/DeepsMaxi305/Data_Science/blob/main/Diabetes.ipynb\" target=\"_parent\"><img src=\"https://colab.research.google.com/assets/colab-badge.svg\" alt=\"Open In Colab\"/></a>"
      ]
    },
    {
      "cell_type": "code",
      "execution_count": 23,
      "metadata": {
        "id": "lXdpJ1hOEvo1"
      },
      "outputs": [],
      "source": [
        "import pandas as pd\n",
        "import matplotlib.pyplot as plt\n",
        "import seaborn as sns"
      ]
    },
    {
      "cell_type": "code",
      "source": [
        "df = pd.read_csv('diabetes.csv')"
      ],
      "metadata": {
        "id": "YZ5IYtxDG7zi"
      },
      "execution_count": 24,
      "outputs": []
    },
    {
      "cell_type": "code",
      "source": [
        "print(df.info())"
      ],
      "metadata": {
        "colab": {
          "base_uri": "https://localhost:8080/"
        },
        "id": "EoaWh47XHHab",
        "outputId": "96e373d1-3cd6-49fa-9607-7772a63d8902"
      },
      "execution_count": 25,
      "outputs": [
        {
          "output_type": "stream",
          "name": "stdout",
          "text": [
            "<class 'pandas.core.frame.DataFrame'>\n",
            "RangeIndex: 768 entries, 0 to 767\n",
            "Data columns (total 9 columns):\n",
            " #   Column                    Non-Null Count  Dtype  \n",
            "---  ------                    --------------  -----  \n",
            " 0   Pregnancies               768 non-null    int64  \n",
            " 1   Glucose                   768 non-null    int64  \n",
            " 2   BloodPressure             768 non-null    int64  \n",
            " 3   SkinThickness             768 non-null    int64  \n",
            " 4   Insulin                   768 non-null    int64  \n",
            " 5   BMI                       768 non-null    float64\n",
            " 6   DiabetesPedigreeFunction  768 non-null    float64\n",
            " 7   Age                       768 non-null    int64  \n",
            " 8   Outcome                   768 non-null    int64  \n",
            "dtypes: float64(2), int64(7)\n",
            "memory usage: 54.1 KB\n",
            "None\n"
          ]
        }
      ]
    },
    {
      "cell_type": "code",
      "source": [
        "print(df.describe())"
      ],
      "metadata": {
        "colab": {
          "base_uri": "https://localhost:8080/"
        },
        "id": "LQNW4csfHLS8",
        "outputId": "45ba8930-ac34-4a1c-ec73-48d9808378cd"
      },
      "execution_count": 26,
      "outputs": [
        {
          "output_type": "stream",
          "name": "stdout",
          "text": [
            "       Pregnancies     Glucose  BloodPressure  SkinThickness     Insulin  \\\n",
            "count   768.000000  768.000000     768.000000     768.000000  768.000000   \n",
            "mean      3.845052  120.894531      69.105469      20.536458   79.799479   \n",
            "std       3.369578   31.972618      19.355807      15.952218  115.244002   \n",
            "min       0.000000    0.000000       0.000000       0.000000    0.000000   \n",
            "25%       1.000000   99.000000      62.000000       0.000000    0.000000   \n",
            "50%       3.000000  117.000000      72.000000      23.000000   30.500000   \n",
            "75%       6.000000  140.250000      80.000000      32.000000  127.250000   \n",
            "max      17.000000  199.000000     122.000000      99.000000  846.000000   \n",
            "\n",
            "              BMI  DiabetesPedigreeFunction         Age     Outcome  \n",
            "count  768.000000                768.000000  768.000000  768.000000  \n",
            "mean    31.992578                  0.471876   33.240885    0.348958  \n",
            "std      7.884160                  0.331329   11.760232    0.476951  \n",
            "min      0.000000                  0.078000   21.000000    0.000000  \n",
            "25%     27.300000                  0.243750   24.000000    0.000000  \n",
            "50%     32.000000                  0.372500   29.000000    0.000000  \n",
            "75%     36.600000                  0.626250   41.000000    1.000000  \n",
            "max     67.100000                  2.420000   81.000000    1.000000  \n"
          ]
        }
      ]
    },
    {
      "cell_type": "code",
      "source": [
        "print(df.isnull().sum())"
      ],
      "metadata": {
        "colab": {
          "base_uri": "https://localhost:8080/"
        },
        "id": "Uzm10bQyHRqK",
        "outputId": "0b02a7d2-dfa5-4735-ebbe-994ad4f79bc5"
      },
      "execution_count": 27,
      "outputs": [
        {
          "output_type": "stream",
          "name": "stdout",
          "text": [
            "Pregnancies                 0\n",
            "Glucose                     0\n",
            "BloodPressure               0\n",
            "SkinThickness               0\n",
            "Insulin                     0\n",
            "BMI                         0\n",
            "DiabetesPedigreeFunction    0\n",
            "Age                         0\n",
            "Outcome                     0\n",
            "dtype: int64\n"
          ]
        }
      ]
    },
    {
      "cell_type": "markdown",
      "source": [
        "What is the average glucose level of patients with diabetes?"
      ],
      "metadata": {
        "id": "99smRPh1Fo4f"
      }
    },
    {
      "cell_type": "code",
      "source": [
        "avg_glucose_diabetes = df.loc[df['Outcome'] == 1, 'Glucose'].mean()\n",
        "print(\"The average glucose level of patients with diabetes is:\", avg_glucose_diabetes)"
      ],
      "metadata": {
        "colab": {
          "base_uri": "https://localhost:8080/"
        },
        "id": "tNY58QO-Fsez",
        "outputId": "1d4599cb-87b6-465b-e1e2-3ab0f1869adb"
      },
      "execution_count": 28,
      "outputs": [
        {
          "output_type": "stream",
          "name": "stdout",
          "text": [
            "The average glucose level of patients with diabetes is: 141.25746268656715\n"
          ]
        }
      ]
    },
    {
      "cell_type": "markdown",
      "source": [
        "What is the average age of patients with diabetes?"
      ],
      "metadata": {
        "id": "rGgbvJg4FzpA"
      }
    },
    {
      "cell_type": "code",
      "source": [
        "avg_age_diabetes = df.loc[df['Outcome'] == 1, 'Age'].mean()\n",
        "print(\"The average age of patients with diabetes is:\", avg_age_diabetes)"
      ],
      "metadata": {
        "colab": {
          "base_uri": "https://localhost:8080/"
        },
        "id": "K437dwaiF2WV",
        "outputId": "618a0c8e-8e0f-4e9c-c672-59a4d95b6d86"
      },
      "execution_count": 29,
      "outputs": [
        {
          "output_type": "stream",
          "name": "stdout",
          "text": [
            "The average age of patients with diabetes is: 37.06716417910448\n"
          ]
        }
      ]
    },
    {
      "cell_type": "markdown",
      "source": [
        "Is there a correlation between insulin levels and BMI?"
      ],
      "metadata": {
        "id": "zGVBKef9F7Tn"
      }
    },
    {
      "cell_type": "code",
      "source": [
        "plt.scatter(df['Insulin'], df['BMI'])\n",
        "plt.xlabel('Insulin levels')\n",
        "plt.ylabel('BMI')\n",
        "plt.show()\n",
        "correlation = df['Insulin'].corr(df['BMI'])\n",
        "print(\"The correlation between insulin levels and BMI is:\", correlation)"
      ],
      "metadata": {
        "colab": {
          "base_uri": "https://localhost:8080/",
          "height": 470
        },
        "id": "3d2MkiU4F9e4",
        "outputId": "60c1f430-8d5b-4fe6-dd27-1c1731fd71b5"
      },
      "execution_count": 30,
      "outputs": [
        {
          "output_type": "display_data",
          "data": {
            "text/plain": [
              "<Figure size 640x480 with 1 Axes>"
            ],
            "image/png": "[encoded data removed]"
          },
          "metadata": {}
        },
        {
          "output_type": "stream",
          "name": "stdout",
          "text": [
            "The correlation between insulin levels and BMI is: 0.19785905649310134\n"
          ]
        }
      ]
    },
    {
      "cell_type": "markdown",
      "source": [
        "Does the number of pregnancies affect the likelihood of developing diabetes?"
      ],
      "metadata": {
        "id": "TLW-BwnnGKZf"
      }
    },
    {
      "cell_type": "code",
      "source": [
        "sns.barplot(x='Outcome', y='Pregnancies', data=df)\n",
        "plt.show()\n",
        "mean_preg_diabetes = df.loc[df['Outcome'] == 1, 'Pregnancies'].mean()\n",
        "mean_preg_no_diabetes = df.loc[df['Outcome'] == 0, 'Pregnancies'].mean()\n",
        "print(\"The mean number of pregnancies for patients with diabetes is:\", mean_preg_diabetes)\n",
        "print(\"The mean number of pregnancies for patients without diabetes is:\", mean_preg_no_diabetes)"
      ],
      "metadata": {
        "colab": {
          "base_uri": "https://localhost:8080/",
          "height": 484
        },
        "id": "kawv5iQ2GOCp",
        "outputId": "7340e508-4213-4330-d2aa-f1ce5a4b9f56"
      },
      "execution_count": 31,
      "outputs": [
        {
          "output_type": "display_data",
          "data": {
            "text/plain": [
              "<Figure size 640x480 with 1 Axes>"
            ],
            "image/png": "[encoded data removed]"
          },
          "metadata": {}
        },
        {
          "output_type": "stream",
          "name": "stdout",
          "text": [
            "The mean number of pregnancies for patients with diabetes is: 4.865671641791045\n",
            "The mean number of pregnancies for patients without diabetes is: 3.298\n"
          ]
        }
      ]
    },
    {
      "cell_type": "markdown",
      "source": [
        "Are there any differences in blood pressure between patients with and without diabetes?"
      ],
      "metadata": {
        "id": "hr71xSvSGfbV"
      }
    },
    {
      "cell_type": "code",
      "source": [
        "sns.boxplot(x='Outcome', y='BloodPressure', data=df)\n",
        "plt.show()\n",
        "mean_bp_diabetes = df.loc[df['Outcome'] == 1, 'BloodPressure'].mean()\n",
        "mean_bp_no_diabetes = df.loc[df['Outcome'] == 0, 'BloodPressure'].mean()\n",
        "print(\"The mean blood pressure for patients with diabetes is:\", mean_bp_diabetes)\n",
        "print(\"The mean blood pressure for patients without diabetes is:\", mean_bp_no_diabetes)"
      ],
      "metadata": {
        "colab": {
          "base_uri": "https://localhost:8080/",
          "height": 484
        },
        "id": "HQw-3WN7Gh_R",
        "outputId": "f1cbee6a-c109-428d-f156-271dcd778583"
      },
      "execution_count": 32,
      "outputs": [
        {
          "output_type": "display_data",
          "data": {
            "text/plain": [
              "<Figure size 640x480 with 1 Axes>"
            ],
            "image/png": "[encoded data removed]"
          },
          "metadata": {}
        },
        {
          "output_type": "stream",
          "name": "stdout",
          "text": [
            "The mean blood pressure for patients with diabetes is: 70.82462686567165\n",
            "The mean blood pressure for patients without diabetes is: 68.184\n"
          ]
        }
      ]
    },
    {
      "cell_type": "markdown",
      "source": [
        "What is the proportion of patients with diabetes in the dataset?"
      ],
      "metadata": {
        "id": "7UUOhi5EGwlk"
      }
    },
    {
      "cell_type": "code",
      "source": [
        "num_diabetes = len(df.loc[df['Outcome'] == 1])\n",
        "num_no_diabetes = len(df.loc[df['Outcome'] == 0])\n",
        "total_patients = len(df)\n",
        "proportion_diabetes = num_diabetes / total_patients\n",
        "proportion_no_diabetes = num_no_diabetes / total_patients\n",
        "print(\"The proportion of patients with diabetes is:\", proportion_diabetes)\n",
        "print(\"The proportion of patients without diabetes is:\", proportion_no_diabetes)"
      ],
      "metadata": {
        "colab": {
          "base_uri": "https://localhost:8080/"
        },
        "id": "QktSe5QgGxFC",
        "outputId": "3daae34a-dd86-4ce4-8101-523092319fb7"
      },
      "execution_count": 33,
      "outputs": [
        {
          "output_type": "stream",
          "name": "stdout",
          "text": [
            "The proportion of patients with diabetes is: 0.3489583333333333\n",
            "The proportion of patients without diabetes is: 0.6510416666666666\n"
          ]
        }
      ]
    }
  ]
}