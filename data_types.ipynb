{
  "cells": [
    {
      "cell_type": "markdown",
      "metadata": {
        "id": "view-in-github",
        "colab_type": "text"
      },
      "source": [
        "<a href=\"https://colab.research.google.com/github/DeepsMaxi305/Data_Science/blob/main/data_types.ipynb\" target=\"_parent\"><img src=\"https://colab.research.google.com/assets/colab-badge.svg\" alt=\"Open In Colab\"/></a>"
      ]
    },
    {
      "cell_type": "markdown",
      "id": "novel-stream",
      "metadata": {
        "id": "novel-stream"
      },
      "source": [
        "# Data Types"
      ]
    },
    {
      "cell_type": "markdown",
      "id": "finite-albania",
      "metadata": {
        "id": "finite-albania"
      },
      "source": [
        "## Remove Vowels\n",
        "Write a Python program that takes a string, makes the character lowercase, removes its vowel characters (`\"a\"`, `\"e\"`, `\"i\"`, `\"o\"`, and `\"u\"`) and prints the result. For example, given the string `\"Hello\"`, the program should print `\"hll\"`."
      ]
    },
    {
      "cell_type": "code",
      "execution_count": 14,
      "id": "human-century",
      "metadata": {
        "colab": {
          "base_uri": "https://localhost:8080/"
        },
        "id": "human-century",
        "outputId": "551ef3dc-ece6-4ff7-9078-f8f74b36f0af"
      },
      "outputs": [
        {
          "output_type": "stream",
          "name": "stdout",
          "text": [
            "hll\n"
          ]
        }
      ],
      "source": [
        "def remove_vowels (input):\n",
        "    vowels = \"aeiou\"\n",
        "    return \"\".join ([char for char in input.lower() if char not in vowels])\n",
        "\n",
        "input = \"Hello\"\n",
        "print (remove_vowels(input))\n",
        "\n"
      ]
    },
    {
      "cell_type": "markdown",
      "id": "formed-candy",
      "metadata": {
        "id": "formed-candy"
      },
      "source": [
        "## Reverse the Words\n",
        "Write a Python program that takes a string containing some words that are separeted with whitespace, reverses the words in the string, and prints the result. For example, given the string `\"hello how are you\"`, the program should print `\"you are how hello\"`. "
      ]
    },
    {
      "cell_type": "code",
      "execution_count": 18,
      "id": "forward-berry",
      "metadata": {
        "colab": {
          "base_uri": "https://localhost:8080/"
        },
        "id": "forward-berry",
        "outputId": "0dc72459-1fb9-47df-9ca6-b04b53330093"
      },
      "outputs": [
        {
          "output_type": "stream",
          "name": "stdout",
          "text": [
            "you are how hello\n"
          ]
        }
      ],
      "source": [
        "def reverse_words (input):\n",
        "    return \" \".join(input.split()[::-1])\n",
        "\n",
        "input = \"hello how are you\"\n",
        "print(reverse_words(input))\n"
      ]
    },
    {
      "cell_type": "markdown",
      "id": "after-radius",
      "metadata": {
        "id": "after-radius"
      },
      "source": [
        "## Count Common Elements of 2 Lists\n",
        "Write a Python program that prints the number of common elements in two given lists. For example, given `[1, 2, 3]` and `[5, 1, 3]`, the program should print 2."
      ]
    },
    {
      "cell_type": "code",
      "execution_count": 6,
      "id": "adverse-berkeley",
      "metadata": {
        "colab": {
          "base_uri": "https://localhost:8080/"
        },
        "id": "adverse-berkeley",
        "outputId": "d1afd1b6-c2c2-4861-b9bc-e545c864059a"
      },
      "outputs": [
        {
          "output_type": "stream",
          "name": "stdout",
          "text": [
            "2\n"
          ]
        }
      ],
      "source": [
        "def count_common_elements(list1, list2):\n",
        "    return len(set(list1) & set(list2))\n",
        "\n",
        "list1 = [1, 2, 3]\n",
        "list2 = [5, 1, 3]\n",
        "print(count_common_elements(list1, list2))\n"
      ]
    },
    {
      "cell_type": "markdown",
      "id": "secret-theme",
      "metadata": {
        "id": "secret-theme"
      },
      "source": [
        "## Print Sorted Unique Words\n",
        "Write a Python program that takes a string containing some words that are separeted with whitespace, removes all duplicate words, sorts the remaining words alphanumerically, and prints the result. For example, given the string `\"hello world and practice makes perfect and hello world again\"`, the program should print `\"again and hello makes perfect practice world\"`."
      ]
    },
    {
      "cell_type": "code",
      "execution_count": 19,
      "id": "requested-rapid",
      "metadata": {
        "colab": {
          "base_uri": "https://localhost:8080/"
        },
        "id": "requested-rapid",
        "outputId": "6118a763-0fc2-48c6-c433-14eedd79791c"
      },
      "outputs": [
        {
          "output_type": "stream",
          "name": "stdout",
          "text": [
            "again and hello makes perfect practice world\n"
          ]
        }
      ],
      "source": [
        "def remove_duplicates_and_sort(input):\n",
        "    words = input.split()\n",
        "    unique_words = sorted(set(words))\n",
        "    return \" \".join(unique_words)\n",
        "\n",
        "input = \"hello world and practice makes perfect and hello world again\"\n",
        "print(remove_duplicates_and_sort(input))\n"
      ]
    },
    {
      "cell_type": "markdown",
      "id": "satellite-residence",
      "metadata": {
        "id": "satellite-residence"
      },
      "source": [
        "## Convert a List of Integers to an Integer\n",
        "Write a Python program to convert a given list of integers to an integer. For example, given `[11, 2, 54]`, the program should assign 11254 into an integer variable."
      ]
    },
    {
      "cell_type": "code",
      "execution_count": 8,
      "id": "excessive-spectrum",
      "metadata": {
        "colab": {
          "base_uri": "https://localhost:8080/"
        },
        "id": "excessive-spectrum",
        "outputId": "d42b75b9-be0d-4fb5-a7b8-4db0bdb5f66e"
      },
      "outputs": [
        {
          "output_type": "stream",
          "name": "stdout",
          "text": [
            "11254 <class 'int'>\n"
          ]
        }
      ],
      "source": [
        "def convert_to_integer(numbers):\n",
        "    return int(\"\".join(map(str, numbers)))\n",
        "\n",
        "numbers = [11, 2, 54]\n",
        "result = convert_to_integer(numbers)\n",
        "print(result, type(result))\n"
      ]
    }
  ],
  "metadata": {
    "kernelspec": {
      "display_name": "Python 3",
      "language": "python",
      "name": "python3"
    },
    "language_info": {
      "codemirror_mode": {
        "name": "ipython",
        "version": 3
      },
      "file_extension": ".py",
      "mimetype": "text/x-python",
      "name": "python",
      "nbconvert_exporter": "python",
      "pygments_lexer": "ipython3",
      "version": "3.8.5"
    },
    "colab": {
      "provenance": [],
      "include_colab_link": true
    }
  },
  "nbformat": 4,
  "nbformat_minor": 5
}