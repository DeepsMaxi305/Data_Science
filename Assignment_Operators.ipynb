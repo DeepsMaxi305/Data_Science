{
  "nbformat": 4,
  "nbformat_minor": 0,
  "metadata": {
    "colab": {
      "provenance": [],
      "authorship_tag": "ABX9TyNtYham3IlfvkGTlPo+G/0i",
      "include_colab_link": true
    },
    "kernelspec": {
      "name": "python3",
      "display_name": "Python 3"
    },
    "language_info": {
      "name": "python"
    }
  },
  "cells": [
    {
      "cell_type": "markdown",
      "metadata": {
        "id": "view-in-github",
        "colab_type": "text"
      },
      "source": [
        "<a href=\"https://colab.research.google.com/github/DeepsMaxi305/Data_Science/blob/main/Assignment_Operators.ipynb\" target=\"_parent\"><img src=\"https://colab.research.google.com/assets/colab-badge.svg\" alt=\"Open In Colab\"/></a>"
      ]
    },
    {
      "cell_type": "code",
      "execution_count": null,
      "metadata": {
        "id": "wO1zTcCgJFqI"
      },
      "outputs": [],
      "source": []
    },
    {
      "cell_type": "markdown",
      "source": [
        "## Assignment Operators"
      ],
      "metadata": {
        "id": "-ENx-l2XJHk-"
      }
    },
    {
      "cell_type": "code",
      "source": [
        "x=5\n",
        "x+=3\n",
        "print(x)\n",
        "x-=3\n",
        "print(x)\n",
        "x*=3\n",
        "print(x)\n",
        "x/=3\n",
        "print(x)\n",
        "x%=3\n",
        "print(x)\n",
        "x//=3\n",
        "print(x)\n",
        "x**=3\n",
        "print(x)\n",
        "\n"
      ],
      "metadata": {
        "colab": {
          "base_uri": "https://localhost:8080/"
        },
        "id": "NtObDtCyJz5S",
        "outputId": "1725fd29-7018-4d70-bfb9-dfc75433da6f"
      },
      "execution_count": 19,
      "outputs": [
        {
          "output_type": "stream",
          "name": "stdout",
          "text": [
            "8\n",
            "5\n",
            "15\n",
            "5.0\n",
            "2.0\n",
            "0.0\n",
            "0.0\n"
          ]
        }
      ]
    },
    {
      "cell_type": "code",
      "source": [
        "x = 2 + abs(-12)\n",
        "print (x)"
      ],
      "metadata": {
        "colab": {
          "base_uri": "https://localhost:8080/"
        },
        "id": "aeuZt1yrMbYw",
        "outputId": "e8bc061e-b5a6-41e6-c114-daf39e656aab"
      },
      "execution_count": 20,
      "outputs": [
        {
          "output_type": "stream",
          "name": "stdout",
          "text": [
            "14\n"
          ]
        }
      ]
    },
    {
      "cell_type": "code",
      "source": [
        "x=2+abs(-12)\n",
        "print (x)"
      ],
      "metadata": {
        "colab": {
          "base_uri": "https://localhost:8080/"
        },
        "id": "m3lxcEDYMnPM",
        "outputId": "75fa24ce-04ac-4710-8729-bc5cb4a1c2a5"
      },
      "execution_count": 21,
      "outputs": [
        {
          "output_type": "stream",
          "name": "stdout",
          "text": [
            "14\n"
          ]
        }
      ]
    },
    {
      "cell_type": "code",
      "source": [
        "import math\n",
        "x= math.sqrt(49)\n",
        "print (x)"
      ],
      "metadata": {
        "colab": {
          "base_uri": "https://localhost:8080/"
        },
        "id": "-e8Dd94FM2hz",
        "outputId": "51f5985f-e33a-4460-d544-d2d4f7b3bbd1"
      },
      "execution_count": 22,
      "outputs": [
        {
          "output_type": "stream",
          "name": "stdout",
          "text": [
            "7.0\n"
          ]
        }
      ]
    },
    {
      "cell_type": "code",
      "source": [
        "x=len('25')\n",
        "print (x)"
      ],
      "metadata": {
        "colab": {
          "base_uri": "https://localhost:8080/"
        },
        "id": "TDU_S87-NbKT",
        "outputId": "b070894b-31d9-4481-814c-72031d56df99"
      },
      "execution_count": 23,
      "outputs": [
        {
          "output_type": "stream",
          "name": "stdout",
          "text": [
            "2\n"
          ]
        }
      ]
    },
    {
      "cell_type": "code",
      "source": [
        "# Below we multiply 3 by 4\n",
        "x = 3*4   #This is also another comment\n",
        "print (x)  "
      ],
      "metadata": {
        "colab": {
          "base_uri": "https://localhost:8080/"
        },
        "id": "Bh9KZa9xN73P",
        "outputId": "998a4ca2-0b78-4107-b641-226e33c08c8b"
      },
      "execution_count": 32,
      "outputs": [
        {
          "output_type": "stream",
          "name": "stdout",
          "text": [
            "12\n"
          ]
        }
      ]
    },
    {
      "cell_type": "code",
      "source": [],
      "metadata": {
        "id": "2AeDQEl0Oa4f"
      },
      "execution_count": null,
      "outputs": []
    }
  ]
}